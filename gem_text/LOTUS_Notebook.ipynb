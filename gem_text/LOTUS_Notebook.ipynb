{
 "cells": [
  {
   "cell_type": "markdown",
   "metadata": {
    "id": "pVK020u3-yPp"
   },
   "source": [
    "# LOTUS Semantic Operators Walkthrough"
   ]
  },
  {
   "cell_type": "code",
   "execution_count": 1,
   "metadata": {
    "id": "A6qzd0fCrj8X"
   },
   "outputs": [],
   "source": [
    "# pip install lotus-ai"
   ]
  },
  {
   "cell_type": "code",
   "execution_count": 2,
   "metadata": {},
   "outputs": [
    {
     "data": {
      "text/plain": [
       "True"
      ]
     },
     "execution_count": 2,
     "metadata": {},
     "output_type": "execute_result"
    }
   ],
   "source": [
    "# pip install python-dotenv\n",
    "import os\n",
    "from dotenv import load_dotenv\n",
    "load_dotenv()"
   ]
  },
  {
   "cell_type": "code",
   "execution_count": 3,
   "metadata": {
    "id": "8vMfBuGeKLh3"
   },
   "outputs": [
    {
     "name": "stderr",
     "output_type": "stream",
     "text": [
      "/home/wasit/miniconda3/envs/gem/lib/python3.10/site-packages/sentence_transformers/cross_encoder/CrossEncoder.py:13: TqdmExperimentalWarning: Using `tqdm.autonotebook.tqdm` in notebook mode. Use `tqdm.tqdm` instead to force console mode (e.g. in jupyter console)\n",
      "  from tqdm.autonotebook import tqdm, trange\n",
      "2024-10-20 14:05:14,261 - INFO - Loading faiss with AVX2 support.\n",
      "2024-10-20 14:05:14,380 - INFO - Successfully loaded faiss with AVX2 support.\n"
     ]
    }
   ],
   "source": [
    "import pandas as pd\n",
    "\n",
    "import lotus\n",
    "from lotus.models import OpenAIModel, E5Model\n",
    "\n",
    "lm = OpenAIModel(api_key=os.getenv('OPENAI_API_KEY'))\n",
    "rm = E5Model(device=\"cpu\")\n",
    "\n",
    "lotus.settings.configure(lm=lm, rm=rm, model_params={\"temperature\": 0.0, \"max_tokens\": 256})"
   ]
  },
  {
   "cell_type": "code",
   "execution_count": 4,
   "metadata": {
    "colab": {
     "base_uri": "https://localhost:8080/"
    },
    "id": "azvJQcguKUcs",
    "outputId": "cba45a59-8276-4ad6-c8c1-f864d66aeccf"
   },
   "outputs": [
    {
     "data": {
      "text/plain": [
       "dict_keys(['lm', 'helper_lm', 'rm', 'model_params'])"
      ]
     },
     "execution_count": 4,
     "metadata": {},
     "output_type": "execute_result"
    }
   ],
   "source": [
    "# When needed, we can also alter other configurations managed by the settings module\n",
    "lotus.settings.keys()"
   ]
  },
  {
   "cell_type": "markdown",
   "metadata": {
    "id": "g1qKr3YiS9FC"
   },
   "source": [
    "# Semantic Operators\n",
    "\n",
    "Semantic operators are a key component in the LOTUS programming model. Semantic operators extend the relational model with AI-based operations that users can compose into powerful, reasoning-based query pipelines over structured and unstructured data."
   ]
  },
  {
   "cell_type": "code",
   "execution_count": 5,
   "metadata": {
    "id": "7L0rCDHYTWkT"
   },
   "outputs": [],
   "source": [
    "# First let's initialize the dataframe we will use to perform semantic operations on\n",
    "data = {\n",
    "    \"Course Name\": [\n",
    "        \"Probability and Random Processes\",\n",
    "        \"Optimization Methods in Engineering\",\n",
    "        \"Digital Design and Integrated Circuits\",\n",
    "        \"Computer Security\",\n",
    "        \"Operating Systems and Systems Programming\",\n",
    "        \"Compilers\",\n",
    "        \"Computer Networks\",\n",
    "        \"Deep Learning\",\n",
    "        \"Graphics\",\n",
    "        \"Databases\",\n",
    "        \"Art History\",\n",
    "    ]\n",
    "}\n",
    "df = pd.DataFrame(data)"
   ]
  },
  {
   "cell_type": "markdown",
   "metadata": {
    "id": "wM3cNIbuTQHj"
   },
   "source": [
    "## Semantic Filter\n",
    "\n",
    "Semantic filter returns the subset of rows that pass the filtering condition, specified by the user's **langex**. A langex is a parameterized natural language expression which denotes columns in brackets to perform operations on. Let's see how it can be used to filter for classes that require a lot of math."
   ]
  },
  {
   "cell_type": "code",
   "execution_count": 6,
   "metadata": {
    "colab": {
     "base_uri": "https://localhost:8080/",
     "height": 204
    },
    "id": "5XsxeUgsS3Bz",
    "outputId": "2d5a0217-cfd8-4014-b708-70383513328c"
   },
   "outputs": [
    {
     "name": "stderr",
     "output_type": "stream",
     "text": [
      "2024-10-20 14:05:15,415 - INFO - HTTP Request: POST https://api.openai.com/v1/chat/completions \"HTTP/1.1 200 OK\"\n",
      "2024-10-20 14:05:15,421 - INFO - HTTP Request: POST https://api.openai.com/v1/chat/completions \"HTTP/1.1 200 OK\"\n",
      "2024-10-20 14:05:15,425 - INFO - HTTP Request: POST https://api.openai.com/v1/chat/completions \"HTTP/1.1 200 OK\"\n",
      "2024-10-20 14:05:15,475 - INFO - HTTP Request: POST https://api.openai.com/v1/chat/completions \"HTTP/1.1 200 OK\"\n",
      "2024-10-20 14:05:15,477 - INFO - HTTP Request: POST https://api.openai.com/v1/chat/completions \"HTTP/1.1 200 OK\"\n",
      "2024-10-20 14:05:15,493 - INFO - HTTP Request: POST https://api.openai.com/v1/chat/completions \"HTTP/1.1 200 OK\"\n",
      "2024-10-20 14:05:15,511 - INFO - HTTP Request: POST https://api.openai.com/v1/chat/completions \"HTTP/1.1 200 OK\"\n",
      "2024-10-20 14:05:15,591 - INFO - HTTP Request: POST https://api.openai.com/v1/chat/completions \"HTTP/1.1 200 OK\"\n",
      "2024-10-20 14:05:15,600 - INFO - HTTP Request: POST https://api.openai.com/v1/chat/completions \"HTTP/1.1 200 OK\"\n",
      "2024-10-20 14:05:15,623 - INFO - HTTP Request: POST https://api.openai.com/v1/chat/completions \"HTTP/1.1 200 OK\"\n",
      "2024-10-20 14:05:15,626 - INFO - HTTP Request: POST https://api.openai.com/v1/chat/completions \"HTTP/1.1 200 OK\"\n"
     ]
    },
    {
     "data": {
      "text/html": [
       "<div>\n",
       "<style scoped>\n",
       "    .dataframe tbody tr th:only-of-type {\n",
       "        vertical-align: middle;\n",
       "    }\n",
       "\n",
       "    .dataframe tbody tr th {\n",
       "        vertical-align: top;\n",
       "    }\n",
       "\n",
       "    .dataframe thead th {\n",
       "        text-align: right;\n",
       "    }\n",
       "</style>\n",
       "<table border=\"1\" class=\"dataframe\">\n",
       "  <thead>\n",
       "    <tr style=\"text-align: right;\">\n",
       "      <th></th>\n",
       "      <th>Course Name</th>\n",
       "    </tr>\n",
       "  </thead>\n",
       "  <tbody>\n",
       "    <tr>\n",
       "      <th>0</th>\n",
       "      <td>Probability and Random Processes</td>\n",
       "    </tr>\n",
       "    <tr>\n",
       "      <th>1</th>\n",
       "      <td>Optimization Methods in Engineering</td>\n",
       "    </tr>\n",
       "    <tr>\n",
       "      <th>2</th>\n",
       "      <td>Digital Design and Integrated Circuits</td>\n",
       "    </tr>\n",
       "    <tr>\n",
       "      <th>7</th>\n",
       "      <td>Deep Learning</td>\n",
       "    </tr>\n",
       "    <tr>\n",
       "      <th>8</th>\n",
       "      <td>Graphics</td>\n",
       "    </tr>\n",
       "  </tbody>\n",
       "</table>\n",
       "</div>"
      ],
      "text/plain": [
       "                              Course Name\n",
       "0        Probability and Random Processes\n",
       "1     Optimization Methods in Engineering\n",
       "2  Digital Design and Integrated Circuits\n",
       "7                           Deep Learning\n",
       "8                                Graphics"
      ]
     },
     "execution_count": 6,
     "metadata": {},
     "output_type": "execute_result"
    }
   ],
   "source": [
    "df.sem_filter(\"{Course Name} requires a lot of math\")"
   ]
  },
  {
   "cell_type": "markdown",
   "metadata": {
    "id": "lnH1TwX4UNtS"
   },
   "source": [
    "## Semantic Top K\n",
    "\n",
    "Semantic top K ranks a set of rows according to the user-defined criteria, and returns the K rows that best match the ranking criteria. The signature of the langex provides a general ranking criteria according to one or more columns. Let's see how it can be used to find the top 3 most relevant classes for distributed systems."
   ]
  },
  {
   "cell_type": "code",
   "execution_count": 7,
   "metadata": {
    "colab": {
     "base_uri": "https://localhost:8080/",
     "height": 142
    },
    "id": "_XB_Pa6TT16p",
    "outputId": "6b9757bc-eb3e-4aee-8483-a9053706886d"
   },
   "outputs": [
    {
     "name": "stderr",
     "output_type": "stream",
     "text": [
      "2024-10-20 14:05:16,234 - INFO - HTTP Request: POST https://api.openai.com/v1/chat/completions \"HTTP/1.1 200 OK\"\n",
      "2024-10-20 14:05:16,294 - INFO - HTTP Request: POST https://api.openai.com/v1/chat/completions \"HTTP/1.1 200 OK\"\n",
      "2024-10-20 14:05:16,297 - INFO - HTTP Request: POST https://api.openai.com/v1/chat/completions \"HTTP/1.1 200 OK\"\n",
      "2024-10-20 14:05:16,321 - INFO - HTTP Request: POST https://api.openai.com/v1/chat/completions \"HTTP/1.1 200 OK\"\n",
      "2024-10-20 14:05:16,329 - INFO - HTTP Request: POST https://api.openai.com/v1/chat/completions \"HTTP/1.1 200 OK\"\n",
      "2024-10-20 14:05:16,331 - INFO - HTTP Request: POST https://api.openai.com/v1/chat/completions \"HTTP/1.1 200 OK\"\n",
      "2024-10-20 14:05:16,352 - INFO - HTTP Request: POST https://api.openai.com/v1/chat/completions \"HTTP/1.1 200 OK\"\n",
      "2024-10-20 14:05:16,360 - INFO - HTTP Request: POST https://api.openai.com/v1/chat/completions \"HTTP/1.1 200 OK\"\n",
      "2024-10-20 14:05:16,374 - INFO - HTTP Request: POST https://api.openai.com/v1/chat/completions \"HTTP/1.1 200 OK\"\n",
      "2024-10-20 14:05:16,950 - INFO - HTTP Request: POST https://api.openai.com/v1/chat/completions \"HTTP/1.1 200 OK\"\n",
      "2024-10-20 14:05:17,565 - INFO - HTTP Request: POST https://api.openai.com/v1/chat/completions \"HTTP/1.1 200 OK\"\n",
      "2024-10-20 14:05:17,570 - INFO - HTTP Request: POST https://api.openai.com/v1/chat/completions \"HTTP/1.1 200 OK\"\n",
      "2024-10-20 14:05:17,573 - INFO - HTTP Request: POST https://api.openai.com/v1/chat/completions \"HTTP/1.1 200 OK\"\n",
      "2024-10-20 14:05:17,585 - INFO - HTTP Request: POST https://api.openai.com/v1/chat/completions \"HTTP/1.1 200 OK\"\n",
      "2024-10-20 14:05:17,596 - INFO - HTTP Request: POST https://api.openai.com/v1/chat/completions \"HTTP/1.1 200 OK\"\n",
      "2024-10-20 14:05:17,608 - INFO - HTTP Request: POST https://api.openai.com/v1/chat/completions \"HTTP/1.1 200 OK\"\n",
      "2024-10-20 14:05:17,613 - INFO - HTTP Request: POST https://api.openai.com/v1/chat/completions \"HTTP/1.1 200 OK\"\n",
      "2024-10-20 14:05:18,077 - INFO - HTTP Request: POST https://api.openai.com/v1/chat/completions \"HTTP/1.1 200 OK\"\n",
      "2024-10-20 14:05:18,690 - INFO - HTTP Request: POST https://api.openai.com/v1/chat/completions \"HTTP/1.1 200 OK\"\n",
      "2024-10-20 14:05:18,730 - INFO - HTTP Request: POST https://api.openai.com/v1/chat/completions \"HTTP/1.1 200 OK\"\n",
      "2024-10-20 14:05:18,778 - INFO - HTTP Request: POST https://api.openai.com/v1/chat/completions \"HTTP/1.1 200 OK\"\n",
      "2024-10-20 14:05:18,804 - INFO - HTTP Request: POST https://api.openai.com/v1/chat/completions \"HTTP/1.1 200 OK\"\n",
      "2024-10-20 14:05:18,862 - INFO - HTTP Request: POST https://api.openai.com/v1/chat/completions \"HTTP/1.1 200 OK\"\n",
      "2024-10-20 14:05:18,889 - INFO - HTTP Request: POST https://api.openai.com/v1/chat/completions \"HTTP/1.1 200 OK\"\n",
      "2024-10-20 14:05:19,509 - INFO - HTTP Request: POST https://api.openai.com/v1/chat/completions \"HTTP/1.1 200 OK\"\n",
      "2024-10-20 14:05:19,514 - INFO - HTTP Request: POST https://api.openai.com/v1/chat/completions \"HTTP/1.1 200 OK\"\n",
      "2024-10-20 14:05:19,541 - INFO - HTTP Request: POST https://api.openai.com/v1/chat/completions \"HTTP/1.1 200 OK\"\n",
      "2024-10-20 14:05:19,557 - INFO - HTTP Request: POST https://api.openai.com/v1/chat/completions \"HTTP/1.1 200 OK\"\n",
      "2024-10-20 14:05:19,606 - INFO - HTTP Request: POST https://api.openai.com/v1/chat/completions \"HTTP/1.1 200 OK\"\n",
      "2024-10-20 14:05:20,126 - INFO - HTTP Request: POST https://api.openai.com/v1/chat/completions \"HTTP/1.1 200 OK\"\n",
      "2024-10-20 14:05:20,133 - INFO - HTTP Request: POST https://api.openai.com/v1/chat/completions \"HTTP/1.1 200 OK\"\n",
      "2024-10-20 14:05:20,170 - INFO - HTTP Request: POST https://api.openai.com/v1/chat/completions \"HTTP/1.1 200 OK\"\n",
      "2024-10-20 14:05:20,739 - INFO - HTTP Request: POST https://api.openai.com/v1/chat/completions \"HTTP/1.1 200 OK\"\n",
      "2024-10-20 14:05:21,149 - INFO - HTTP Request: POST https://api.openai.com/v1/chat/completions \"HTTP/1.1 200 OK\"\n",
      "2024-10-20 14:05:21,763 - INFO - HTTP Request: POST https://api.openai.com/v1/chat/completions \"HTTP/1.1 200 OK\"\n"
     ]
    },
    {
     "data": {
      "text/html": [
       "<div>\n",
       "<style scoped>\n",
       "    .dataframe tbody tr th:only-of-type {\n",
       "        vertical-align: middle;\n",
       "    }\n",
       "\n",
       "    .dataframe tbody tr th {\n",
       "        vertical-align: top;\n",
       "    }\n",
       "\n",
       "    .dataframe thead th {\n",
       "        text-align: right;\n",
       "    }\n",
       "</style>\n",
       "<table border=\"1\" class=\"dataframe\">\n",
       "  <thead>\n",
       "    <tr style=\"text-align: right;\">\n",
       "      <th></th>\n",
       "      <th>Course Name</th>\n",
       "    </tr>\n",
       "  </thead>\n",
       "  <tbody>\n",
       "    <tr>\n",
       "      <th>0</th>\n",
       "      <td>Operating Systems and Systems Programming</td>\n",
       "    </tr>\n",
       "    <tr>\n",
       "      <th>1</th>\n",
       "      <td>Computer Networks</td>\n",
       "    </tr>\n",
       "    <tr>\n",
       "      <th>2</th>\n",
       "      <td>Databases</td>\n",
       "    </tr>\n",
       "  </tbody>\n",
       "</table>\n",
       "</div>"
      ],
      "text/plain": [
       "                                 Course Name\n",
       "0  Operating Systems and Systems Programming\n",
       "1                          Computer Networks\n",
       "2                                  Databases"
      ]
     },
     "execution_count": 7,
     "metadata": {},
     "output_type": "execute_result"
    }
   ],
   "source": [
    "df.sem_topk(\"{Course Name} is most relevant for distributed systems\", K=3)"
   ]
  },
  {
   "cell_type": "markdown",
   "metadata": {
    "id": "GU0yfnsMU_ld"
   },
   "source": [
    "# Semantic Join\n",
    "\n",
    "Semantic join combines data from two tables, evaluating the user's predicate to return the set of rows from the left and right table that pass. Let's see how it can be used to match courses with gained skills."
   ]
  },
  {
   "cell_type": "code",
   "execution_count": 8,
   "metadata": {
    "colab": {
     "base_uri": "https://localhost:8080/",
     "height": 142
    },
    "id": "Af_bi99CUtxl",
    "outputId": "2679c5bd-b852-447a-db93-da8f63318a1d"
   },
   "outputs": [
    {
     "name": "stderr",
     "output_type": "stream",
     "text": [
      "2024-10-20 14:05:22,378 - INFO - HTTP Request: POST https://api.openai.com/v1/chat/completions \"HTTP/1.1 200 OK\"\n",
      "2024-10-20 14:05:22,386 - INFO - HTTP Request: POST https://api.openai.com/v1/chat/completions \"HTTP/1.1 200 OK\"\n",
      "2024-10-20 14:05:22,414 - INFO - HTTP Request: POST https://api.openai.com/v1/chat/completions \"HTTP/1.1 200 OK\"\n",
      "2024-10-20 14:05:22,992 - INFO - HTTP Request: POST https://api.openai.com/v1/chat/completions \"HTTP/1.1 200 OK\"\n",
      "2024-10-20 14:05:22,996 - INFO - HTTP Request: POST https://api.openai.com/v1/chat/completions \"HTTP/1.1 200 OK\"\n",
      "2024-10-20 14:05:24,017 - INFO - HTTP Request: POST https://api.openai.com/v1/chat/completions \"HTTP/1.1 200 OK\"\n",
      "2024-10-20 14:05:24,631 - INFO - HTTP Request: POST https://api.openai.com/v1/chat/completions \"HTTP/1.1 200 OK\"\n",
      "2024-10-20 14:05:24,635 - INFO - HTTP Request: POST https://api.openai.com/v1/chat/completions \"HTTP/1.1 200 OK\"\n",
      "2024-10-20 14:05:24,647 - INFO - HTTP Request: POST https://api.openai.com/v1/chat/completions \"HTTP/1.1 200 OK\"\n",
      "2024-10-20 14:05:25,245 - INFO - HTTP Request: POST https://api.openai.com/v1/chat/completions \"HTTP/1.1 200 OK\"\n",
      "2024-10-20 14:05:25,270 - INFO - HTTP Request: POST https://api.openai.com/v1/chat/completions \"HTTP/1.1 200 OK\"\n",
      "2024-10-20 14:05:25,346 - INFO - HTTP Request: POST https://api.openai.com/v1/chat/completions \"HTTP/1.1 200 OK\"\n",
      "2024-10-20 14:05:25,860 - INFO - HTTP Request: POST https://api.openai.com/v1/chat/completions \"HTTP/1.1 200 OK\"\n",
      "2024-10-20 14:05:25,867 - INFO - HTTP Request: POST https://api.openai.com/v1/chat/completions \"HTTP/1.1 200 OK\"\n",
      "2024-10-20 14:05:25,869 - INFO - HTTP Request: POST https://api.openai.com/v1/chat/completions \"HTTP/1.1 200 OK\"\n",
      "2024-10-20 14:05:26,424 - INFO - HTTP Request: POST https://api.openai.com/v1/chat/completions \"HTTP/1.1 200 OK\"\n",
      "2024-10-20 14:05:26,504 - INFO - HTTP Request: POST https://api.openai.com/v1/chat/completions \"HTTP/1.1 200 OK\"\n",
      "2024-10-20 14:05:26,874 - INFO - HTTP Request: POST https://api.openai.com/v1/chat/completions \"HTTP/1.1 200 OK\"\n",
      "2024-10-20 14:05:27,498 - INFO - HTTP Request: POST https://api.openai.com/v1/chat/completions \"HTTP/1.1 200 OK\"\n",
      "2024-10-20 14:05:27,503 - INFO - HTTP Request: POST https://api.openai.com/v1/chat/completions \"HTTP/1.1 200 OK\"\n",
      "2024-10-20 14:05:27,904 - INFO - HTTP Request: POST https://api.openai.com/v1/chat/completions \"HTTP/1.1 200 OK\"\n",
      "2024-10-20 14:05:28,419 - INFO - HTTP Request: POST https://api.openai.com/v1/chat/completions \"HTTP/1.1 200 OK\"\n",
      "2024-10-20 14:05:28,424 - INFO - HTTP Request: POST https://api.openai.com/v1/chat/completions \"HTTP/1.1 200 OK\"\n",
      "2024-10-20 14:05:28,426 - INFO - HTTP Request: POST https://api.openai.com/v1/chat/completions \"HTTP/1.1 200 OK\"\n",
      "2024-10-20 14:05:29,002 - INFO - HTTP Request: POST https://api.openai.com/v1/chat/completions \"HTTP/1.1 200 OK\"\n",
      "2024-10-20 14:05:29,066 - INFO - HTTP Request: POST https://api.openai.com/v1/chat/completions \"HTTP/1.1 200 OK\"\n",
      "2024-10-20 14:05:29,238 - INFO - HTTP Request: POST https://api.openai.com/v1/chat/completions \"HTTP/1.1 200 OK\"\n",
      "2024-10-20 14:05:29,853 - INFO - HTTP Request: POST https://api.openai.com/v1/chat/completions \"HTTP/1.1 200 OK\"\n",
      "2024-10-20 14:05:29,860 - INFO - HTTP Request: POST https://api.openai.com/v1/chat/completions \"HTTP/1.1 200 OK\"\n",
      "2024-10-20 14:05:30,058 - INFO - HTTP Request: POST https://api.openai.com/v1/chat/completions \"HTTP/1.1 200 OK\"\n",
      "2024-10-20 14:05:30,774 - INFO - HTTP Request: POST https://api.openai.com/v1/chat/completions \"HTTP/1.1 200 OK\"\n",
      "2024-10-20 14:05:30,777 - INFO - HTTP Request: POST https://api.openai.com/v1/chat/completions \"HTTP/1.1 200 OK\"\n",
      "2024-10-20 14:05:30,779 - INFO - HTTP Request: POST https://api.openai.com/v1/chat/completions \"HTTP/1.1 200 OK\"\n"
     ]
    },
    {
     "data": {
      "text/html": [
       "<div>\n",
       "<style scoped>\n",
       "    .dataframe tbody tr th:only-of-type {\n",
       "        vertical-align: middle;\n",
       "    }\n",
       "\n",
       "    .dataframe tbody tr th {\n",
       "        vertical-align: top;\n",
       "    }\n",
       "\n",
       "    .dataframe thead th {\n",
       "        text-align: right;\n",
       "    }\n",
       "</style>\n",
       "<table border=\"1\" class=\"dataframe\">\n",
       "  <thead>\n",
       "    <tr style=\"text-align: right;\">\n",
       "      <th></th>\n",
       "      <th>Course Name</th>\n",
       "      <th>Skill</th>\n",
       "    </tr>\n",
       "  </thead>\n",
       "  <tbody>\n",
       "    <tr>\n",
       "      <th>0</th>\n",
       "      <td>Probability and Random Processes</td>\n",
       "      <td>Cryptography</td>\n",
       "    </tr>\n",
       "    <tr>\n",
       "      <th>2</th>\n",
       "      <td>Digital Design and Integrated Circuits</td>\n",
       "      <td>Cryptography</td>\n",
       "    </tr>\n",
       "    <tr>\n",
       "      <th>3</th>\n",
       "      <td>Computer Security</td>\n",
       "      <td>Cryptography</td>\n",
       "    </tr>\n",
       "    <tr>\n",
       "      <th>6</th>\n",
       "      <td>Computer Networks</td>\n",
       "      <td>Cryptography</td>\n",
       "    </tr>\n",
       "    <tr>\n",
       "      <th>8</th>\n",
       "      <td>Graphics</td>\n",
       "      <td>Art</td>\n",
       "    </tr>\n",
       "    <tr>\n",
       "      <th>8</th>\n",
       "      <td>Graphics</td>\n",
       "      <td>Baking</td>\n",
       "    </tr>\n",
       "    <tr>\n",
       "      <th>10</th>\n",
       "      <td>Art History</td>\n",
       "      <td>Art</td>\n",
       "    </tr>\n",
       "  </tbody>\n",
       "</table>\n",
       "</div>"
      ],
      "text/plain": [
       "                               Course Name         Skill\n",
       "0         Probability and Random Processes  Cryptography\n",
       "2   Digital Design and Integrated Circuits  Cryptography\n",
       "3                        Computer Security  Cryptography\n",
       "6                        Computer Networks  Cryptography\n",
       "8                                 Graphics           Art\n",
       "8                                 Graphics        Baking\n",
       "10                             Art History           Art"
      ]
     },
     "execution_count": 8,
     "metadata": {},
     "output_type": "execute_result"
    }
   ],
   "source": [
    "skills_df = pd.DataFrame({\"Skill\": [\"Art\", \"Cryptography\", \"Baking\"]})\n",
    "df.sem_join(skills_df, \"Taking {Course Name} will make me better at {Skill}\")"
   ]
  },
  {
   "cell_type": "markdown",
   "metadata": {
    "id": "NQXtaA4EZorA"
   },
   "source": [
    "# Semantic Indexing and Semantic Search\n",
    "\n",
    "Semantic indexing allows us to perform semantic search over a column. Semantic search performs a top K similarity search over a column. Let's see how it can be used to find the 2 most simila courses to painting."
   ]
  },
  {
   "cell_type": "code",
   "execution_count": 9,
   "metadata": {
    "colab": {
     "base_uri": "https://localhost:8080/",
     "height": 145
    },
    "id": "XFZJCujKaFVu",
    "outputId": "41a2c0ca-bcce-4d80-ca1a-0f72cdb844b8"
   },
   "outputs": [
    {
     "name": "stderr",
     "output_type": "stream",
     "text": [
      "100%|████████████████████████████████████████████████████████████████████████████████████████████████████████████| 1/1 [00:00<00:00,  8.83it/s]\n",
      "100%|████████████████████████████████████████████████████████████████████████████████████████████████████████████| 1/1 [00:00<00:00, 20.72it/s]\n"
     ]
    },
    {
     "data": {
      "text/html": [
       "<div>\n",
       "<style scoped>\n",
       "    .dataframe tbody tr th:only-of-type {\n",
       "        vertical-align: middle;\n",
       "    }\n",
       "\n",
       "    .dataframe tbody tr th {\n",
       "        vertical-align: top;\n",
       "    }\n",
       "\n",
       "    .dataframe thead th {\n",
       "        text-align: right;\n",
       "    }\n",
       "</style>\n",
       "<table border=\"1\" class=\"dataframe\">\n",
       "  <thead>\n",
       "    <tr style=\"text-align: right;\">\n",
       "      <th></th>\n",
       "      <th>Course Name</th>\n",
       "    </tr>\n",
       "  </thead>\n",
       "  <tbody>\n",
       "    <tr>\n",
       "      <th>10</th>\n",
       "      <td>Art History</td>\n",
       "    </tr>\n",
       "    <tr>\n",
       "      <th>8</th>\n",
       "      <td>Graphics</td>\n",
       "    </tr>\n",
       "  </tbody>\n",
       "</table>\n",
       "</div>"
      ],
      "text/plain": [
       "    Course Name\n",
       "10  Art History\n",
       "8      Graphics"
      ]
     },
     "execution_count": 9,
     "metadata": {},
     "output_type": "execute_result"
    }
   ],
   "source": [
    "# First create a semantic index on Course Name column and save it to a directory\n",
    "df = df.sem_index(\"Course Name\", \"course_name_index_dir\")\n",
    "df.sem_search(\"Course Name\", \"painting\", K=2)"
   ]
  },
  {
   "cell_type": "markdown",
   "metadata": {
    "id": "XPRCX-yuX9jq"
   },
   "source": [
    "# Semantic Similarity Join\n",
    "\n",
    "Semantic similarity join provides a variant of the semantic join, such that rows are matched according to their semantic similarity, rather than an arbitrary natural-language predicate. It's similar to semantic search and requires a semantic to be built on the right table. Let's see how it can be used to find the most relevant course for a skill."
   ]
  },
  {
   "cell_type": "code",
   "execution_count": 10,
   "metadata": {
    "colab": {
     "base_uri": "https://localhost:8080/",
     "height": 159
    },
    "id": "_ouC7kH8XcgZ",
    "outputId": "cb904f89-5e7c-4c56-9cdf-e619e9608856"
   },
   "outputs": [
    {
     "name": "stderr",
     "output_type": "stream",
     "text": [
      "100%|████████████████████████████████████████████████████████████████████████████████████████████████████████████| 1/1 [00:00<00:00, 19.23it/s]\n"
     ]
    },
    {
     "data": {
      "text/html": [
       "<div>\n",
       "<style scoped>\n",
       "    .dataframe tbody tr th:only-of-type {\n",
       "        vertical-align: middle;\n",
       "    }\n",
       "\n",
       "    .dataframe tbody tr th {\n",
       "        vertical-align: top;\n",
       "    }\n",
       "\n",
       "    .dataframe thead th {\n",
       "        text-align: right;\n",
       "    }\n",
       "</style>\n",
       "<table border=\"1\" class=\"dataframe\">\n",
       "  <thead>\n",
       "    <tr style=\"text-align: right;\">\n",
       "      <th></th>\n",
       "      <th>Skill</th>\n",
       "      <th>_scores</th>\n",
       "      <th>Course Name</th>\n",
       "    </tr>\n",
       "  </thead>\n",
       "  <tbody>\n",
       "    <tr>\n",
       "      <th>0</th>\n",
       "      <td>Art</td>\n",
       "      <td>0.901964</td>\n",
       "      <td>Art History</td>\n",
       "    </tr>\n",
       "    <tr>\n",
       "      <th>1</th>\n",
       "      <td>Cryptography</td>\n",
       "      <td>0.894124</td>\n",
       "      <td>Computer Security</td>\n",
       "    </tr>\n",
       "    <tr>\n",
       "      <th>2</th>\n",
       "      <td>Baking</td>\n",
       "      <td>0.797217</td>\n",
       "      <td>Graphics</td>\n",
       "    </tr>\n",
       "  </tbody>\n",
       "</table>\n",
       "</div>"
      ],
      "text/plain": [
       "          Skill   _scores        Course Name\n",
       "0           Art  0.901964        Art History\n",
       "1  Cryptography  0.894124  Computer Security\n",
       "2        Baking  0.797217           Graphics"
      ]
     },
     "execution_count": 10,
     "metadata": {},
     "output_type": "execute_result"
    }
   ],
   "source": [
    "skills_df.sem_sim_join(df, left_on=\"Skill\", right_on=\"Course Name\", K=1)"
   ]
  },
  {
   "cell_type": "markdown",
   "metadata": {
    "id": "oeCcNZ16esJO"
   },
   "source": [
    "# Semantic Cluster By\n",
    "Semantic cluster by assigns a group to each row of the table according to semantic similarity. Let's see how it can be used to cluster similar classes."
   ]
  },
  {
   "cell_type": "code",
   "execution_count": 11,
   "metadata": {
    "colab": {
     "base_uri": "https://localhost:8080/",
     "height": 390
    },
    "id": "_DOEiiT5e3Tm",
    "outputId": "a83a13cb-56c5-4b66-ddc0-87e194f58e57"
   },
   "outputs": [
    {
     "name": "stderr",
     "output_type": "stream",
     "text": [
      "WARNING clustering 11 points to 3 centroids: please provide at least 117 training points\n"
     ]
    },
    {
     "data": {
      "text/html": [
       "<div>\n",
       "<style scoped>\n",
       "    .dataframe tbody tr th:only-of-type {\n",
       "        vertical-align: middle;\n",
       "    }\n",
       "\n",
       "    .dataframe tbody tr th {\n",
       "        vertical-align: top;\n",
       "    }\n",
       "\n",
       "    .dataframe thead th {\n",
       "        text-align: right;\n",
       "    }\n",
       "</style>\n",
       "<table border=\"1\" class=\"dataframe\">\n",
       "  <thead>\n",
       "    <tr style=\"text-align: right;\">\n",
       "      <th></th>\n",
       "      <th>Course Name</th>\n",
       "      <th>cluster_id</th>\n",
       "    </tr>\n",
       "  </thead>\n",
       "  <tbody>\n",
       "    <tr>\n",
       "      <th>5</th>\n",
       "      <td>Compilers</td>\n",
       "      <td>0</td>\n",
       "    </tr>\n",
       "    <tr>\n",
       "      <th>8</th>\n",
       "      <td>Graphics</td>\n",
       "      <td>0</td>\n",
       "    </tr>\n",
       "    <tr>\n",
       "      <th>9</th>\n",
       "      <td>Databases</td>\n",
       "      <td>0</td>\n",
       "    </tr>\n",
       "    <tr>\n",
       "      <th>0</th>\n",
       "      <td>Probability and Random Processes</td>\n",
       "      <td>1</td>\n",
       "    </tr>\n",
       "    <tr>\n",
       "      <th>2</th>\n",
       "      <td>Digital Design and Integrated Circuits</td>\n",
       "      <td>1</td>\n",
       "    </tr>\n",
       "    <tr>\n",
       "      <th>3</th>\n",
       "      <td>Computer Security</td>\n",
       "      <td>1</td>\n",
       "    </tr>\n",
       "    <tr>\n",
       "      <th>4</th>\n",
       "      <td>Operating Systems and Systems Programming</td>\n",
       "      <td>1</td>\n",
       "    </tr>\n",
       "    <tr>\n",
       "      <th>6</th>\n",
       "      <td>Computer Networks</td>\n",
       "      <td>1</td>\n",
       "    </tr>\n",
       "    <tr>\n",
       "      <th>7</th>\n",
       "      <td>Deep Learning</td>\n",
       "      <td>1</td>\n",
       "    </tr>\n",
       "    <tr>\n",
       "      <th>10</th>\n",
       "      <td>Art History</td>\n",
       "      <td>1</td>\n",
       "    </tr>\n",
       "    <tr>\n",
       "      <th>1</th>\n",
       "      <td>Optimization Methods in Engineering</td>\n",
       "      <td>2</td>\n",
       "    </tr>\n",
       "  </tbody>\n",
       "</table>\n",
       "</div>"
      ],
      "text/plain": [
       "                                  Course Name  cluster_id\n",
       "5                                   Compilers           0\n",
       "8                                    Graphics           0\n",
       "9                                   Databases           0\n",
       "0            Probability and Random Processes           1\n",
       "2      Digital Design and Integrated Circuits           1\n",
       "3                           Computer Security           1\n",
       "4   Operating Systems and Systems Programming           1\n",
       "6                           Computer Networks           1\n",
       "7                               Deep Learning           1\n",
       "10                                Art History           1\n",
       "1         Optimization Methods in Engineering           2"
      ]
     },
     "execution_count": 11,
     "metadata": {},
     "output_type": "execute_result"
    }
   ],
   "source": [
    "# Make 3 clusters\n",
    "df.sem_cluster_by(\"Course Name\", 3).sort_values(by=['cluster_id'])"
   ]
  },
  {
   "cell_type": "markdown",
   "metadata": {
    "id": "aR1TzPH4dxVI"
   },
   "source": [
    "# Semantic Map\n",
    "\n",
    "Semantic map performs a natural language projection over an existing column and outputs a new column in the table. Let's see how it can be used to generate a short study plan for each class.\n"
   ]
  },
  {
   "cell_type": "code",
   "execution_count": 12,
   "metadata": {
    "colab": {
     "base_uri": "https://localhost:8080/",
     "height": 390
    },
    "id": "vPkI-cdcdqMo",
    "outputId": "b4da21d2-fadc-4007-c952-d2ca65b49662"
   },
   "outputs": [
    {
     "name": "stderr",
     "output_type": "stream",
     "text": [
      "2024-10-20 14:05:35,282 - INFO - HTTP Request: POST https://api.openai.com/v1/chat/completions \"HTTP/1.1 200 OK\"\n",
      "2024-10-20 14:05:35,460 - INFO - HTTP Request: POST https://api.openai.com/v1/chat/completions \"HTTP/1.1 200 OK\"\n",
      "2024-10-20 14:05:35,497 - INFO - HTTP Request: POST https://api.openai.com/v1/chat/completions \"HTTP/1.1 200 OK\"\n",
      "2024-10-20 14:05:35,998 - INFO - HTTP Request: POST https://api.openai.com/v1/chat/completions \"HTTP/1.1 200 OK\"\n",
      "2024-10-20 14:05:36,015 - INFO - HTTP Request: POST https://api.openai.com/v1/chat/completions \"HTTP/1.1 200 OK\"\n",
      "2024-10-20 14:05:36,321 - INFO - HTTP Request: POST https://api.openai.com/v1/chat/completions \"HTTP/1.1 200 OK\"\n",
      "2024-10-20 14:05:36,409 - INFO - HTTP Request: POST https://api.openai.com/v1/chat/completions \"HTTP/1.1 200 OK\"\n",
      "2024-10-20 14:05:36,649 - INFO - HTTP Request: POST https://api.openai.com/v1/chat/completions \"HTTP/1.1 200 OK\"\n",
      "2024-10-20 14:05:37,431 - INFO - HTTP Request: POST https://api.openai.com/v1/chat/completions \"HTTP/1.1 200 OK\"\n",
      "2024-10-20 14:05:37,635 - INFO - HTTP Request: POST https://api.openai.com/v1/chat/completions \"HTTP/1.1 200 OK\"\n",
      "2024-10-20 14:05:37,638 - INFO - HTTP Request: POST https://api.openai.com/v1/chat/completions \"HTTP/1.1 200 OK\"\n"
     ]
    },
    {
     "data": {
      "text/html": [
       "<div>\n",
       "<style scoped>\n",
       "    .dataframe tbody tr th:only-of-type {\n",
       "        vertical-align: middle;\n",
       "    }\n",
       "\n",
       "    .dataframe tbody tr th {\n",
       "        vertical-align: top;\n",
       "    }\n",
       "\n",
       "    .dataframe thead th {\n",
       "        text-align: right;\n",
       "    }\n",
       "</style>\n",
       "<table border=\"1\" class=\"dataframe\">\n",
       "  <thead>\n",
       "    <tr style=\"text-align: right;\">\n",
       "      <th></th>\n",
       "      <th>Course Name</th>\n",
       "      <th>cluster_id</th>\n",
       "      <th>_map</th>\n",
       "    </tr>\n",
       "  </thead>\n",
       "  <tbody>\n",
       "    <tr>\n",
       "      <th>0</th>\n",
       "      <td>Probability and Random Processes</td>\n",
       "      <td>1</td>\n",
       "      <td>**Study Plan for \"Probability and Random Proce...</td>\n",
       "    </tr>\n",
       "    <tr>\n",
       "      <th>1</th>\n",
       "      <td>Optimization Methods in Engineering</td>\n",
       "      <td>2</td>\n",
       "      <td>**Study Plan for \"Optimization Methods in Engi...</td>\n",
       "    </tr>\n",
       "    <tr>\n",
       "      <th>2</th>\n",
       "      <td>Digital Design and Integrated Circuits</td>\n",
       "      <td>1</td>\n",
       "      <td>**Study Plan for \"Digital Design and Integrate...</td>\n",
       "    </tr>\n",
       "    <tr>\n",
       "      <th>3</th>\n",
       "      <td>Computer Security</td>\n",
       "      <td>1</td>\n",
       "      <td>**Study Plan for Computer Security Course**\\n\\...</td>\n",
       "    </tr>\n",
       "    <tr>\n",
       "      <th>4</th>\n",
       "      <td>Operating Systems and Systems Programming</td>\n",
       "      <td>1</td>\n",
       "      <td>**Study Plan for \"Operating Systems and System...</td>\n",
       "    </tr>\n",
       "    <tr>\n",
       "      <th>5</th>\n",
       "      <td>Compilers</td>\n",
       "      <td>0</td>\n",
       "      <td>**Study Plan for Compilers Course**\\n\\n**Week ...</td>\n",
       "    </tr>\n",
       "    <tr>\n",
       "      <th>6</th>\n",
       "      <td>Computer Networks</td>\n",
       "      <td>1</td>\n",
       "      <td>**Study Plan for \"Computer Networks\" Course**\\...</td>\n",
       "    </tr>\n",
       "    <tr>\n",
       "      <th>7</th>\n",
       "      <td>Deep Learning</td>\n",
       "      <td>1</td>\n",
       "      <td>**Study Plan for Deep Learning Course**\\n\\n**W...</td>\n",
       "    </tr>\n",
       "    <tr>\n",
       "      <th>8</th>\n",
       "      <td>Graphics</td>\n",
       "      <td>0</td>\n",
       "      <td>**Study Plan for the Course: Graphics**\\n\\n**W...</td>\n",
       "    </tr>\n",
       "    <tr>\n",
       "      <th>9</th>\n",
       "      <td>Databases</td>\n",
       "      <td>0</td>\n",
       "      <td>**Study Plan for \"Databases\" Course**\\n\\n**Wee...</td>\n",
       "    </tr>\n",
       "    <tr>\n",
       "      <th>10</th>\n",
       "      <td>Art History</td>\n",
       "      <td>1</td>\n",
       "      <td>**Study Plan for Art History Course**\\n\\n**Wee...</td>\n",
       "    </tr>\n",
       "  </tbody>\n",
       "</table>\n",
       "</div>"
      ],
      "text/plain": [
       "                                  Course Name  cluster_id  \\\n",
       "0            Probability and Random Processes           1   \n",
       "1         Optimization Methods in Engineering           2   \n",
       "2      Digital Design and Integrated Circuits           1   \n",
       "3                           Computer Security           1   \n",
       "4   Operating Systems and Systems Programming           1   \n",
       "5                                   Compilers           0   \n",
       "6                           Computer Networks           1   \n",
       "7                               Deep Learning           1   \n",
       "8                                    Graphics           0   \n",
       "9                                   Databases           0   \n",
       "10                                Art History           1   \n",
       "\n",
       "                                                 _map  \n",
       "0   **Study Plan for \"Probability and Random Proce...  \n",
       "1   **Study Plan for \"Optimization Methods in Engi...  \n",
       "2   **Study Plan for \"Digital Design and Integrate...  \n",
       "3   **Study Plan for Computer Security Course**\\n\\...  \n",
       "4   **Study Plan for \"Operating Systems and System...  \n",
       "5   **Study Plan for Compilers Course**\\n\\n**Week ...  \n",
       "6   **Study Plan for \"Computer Networks\" Course**\\...  \n",
       "7   **Study Plan for Deep Learning Course**\\n\\n**W...  \n",
       "8   **Study Plan for the Course: Graphics**\\n\\n**W...  \n",
       "9   **Study Plan for \"Databases\" Course**\\n\\n**Wee...  \n",
       "10  **Study Plan for Art History Course**\\n\\n**Wee...  "
      ]
     },
     "execution_count": 12,
     "metadata": {},
     "output_type": "execute_result"
    }
   ],
   "source": [
    "df.sem_map(\"Generate a short study plan to succeed in {Course Name}\")"
   ]
  },
  {
   "cell_type": "markdown",
   "metadata": {
    "id": "0S4VHugPfnNa"
   },
   "source": [
    "# Semantic Aggregation\n",
    "\n",
    "Semantic aggregation performs an aggregation over all rows of the table. Let's see how it can be used to generate one study plan for all courses."
   ]
  },
  {
   "cell_type": "code",
   "execution_count": 13,
   "metadata": {
    "colab": {
     "base_uri": "https://localhost:8080/",
     "height": 137
    },
    "id": "GxcjvWS4fiVm",
    "outputId": "70aa572c-0a4c-48ab-9103-92e6ce298c4e"
   },
   "outputs": [
    {
     "name": "stderr",
     "output_type": "stream",
     "text": [
      "2024-10-20 14:05:41,936 - INFO - HTTP Request: POST https://api.openai.com/v1/chat/completions \"HTTP/1.1 200 OK\"\n"
     ]
    },
    {
     "data": {
      "text/plain": [
       "\"To create a comprehensive study plan for the listed courses, it's essential to allocate time effectively across each subject while considering their complexity and interrelatedness. Here’s a suggested study plan:\\n\\n**Study Plan:**\\n\\n1. **Week 1-2: Probability and Random Processes**\\n   - Focus on foundational concepts, probability theory, and applications in random processes.\\n   - Allocate 10 hours per week for lectures, readings, and problem-solving.\\n\\n2. **Week 3-4: Optimization Methods in Engineering**\\n   - Study optimization techniques, algorithms, and their applications in engineering problems.\\n   - Dedicate 8 hours per week to this course.\\n\\n3. **Week 5-6: Digital Design and Integrated Circuits**\\n   - Cover digital logic design, circuit analysis, and integrated circuit design principles.\\n   - Spend 10 hours per week on practical exercises and theory.\\n\\n4. **Week 7: Computer Security**\\n   - Understand security principles, cryptography, and network security measures.\\n   - Allocate 6 hours for this course.\\n\\n5. **Week 8: Operating Systems and Systems Programming**\\n   - Dive into operating system concepts, process management, and system calls.\\n   - Dedicate 8 hours for hands-on programming and theory.\\n\\n6. **Week 9: Compilers**\\n   - Study compiler design, parsing techniques, and code generation.\\n   - Spend 6 hours on theory and practical compiler construction.\\n\\n7. **Week 10: Computer Networks**\\n   - Focus on network protocols, architecture, and data communication.\\n   - Allocate 8 hours for lectures and lab work.\\n\\n8. **Week 11: Deep Learning**\\n   - Explore neural networks, machine learning algorithms, and their applications.\\n   - Dedicate 10 hours for theory and practical implementation.\\n\\n9. **Week 12: Graphics**\\n   - Study computer graphics principles, rendering techniques, and visualization.\\n   - Spend 6 hours on theory and practical projects.\\n\\n10. **Week 13: Databases**\\n    - Cover database design, SQL, and data management systems.\\n    - Allocate 8 hours for practical exercises and theory.\\n\\n11. **Week 14: Art History**\\n    - Explore major art movements, influential artists, and cultural contexts.\\n    - Dedicate 4 hours for readings and discussions.\\n\\n**Review and Revision:**\\n- Week 15: Allocate time for review sessions across all courses, focusing on areas that need reinforcement.\\n\\nThis structured plan allows for a balanced approach to studying each course while ensuring adequate time for review and practical\""
      ]
     },
     "execution_count": 13,
     "metadata": {},
     "output_type": "execute_result"
    }
   ],
   "source": [
    "df.sem_agg(\"Generate a study plan for all {Course Name}s\")._output[0]"
   ]
  },
  {
   "cell_type": "markdown",
   "metadata": {
    "id": "sypPQBESgLAp"
   },
   "source": [
    "# Advanced Features\n",
    "\n",
    "Now that we are familiar with some LOTUS operators, let's take a look at some other features LOTUS provides such as few-shot demonstrations and chain of though reasoning."
   ]
  },
  {
   "cell_type": "markdown",
   "metadata": {
    "id": "EbDNWEDKgXH8"
   },
   "source": [
    "# Few-Shot Demonstrations\n",
    "\n",
    "Few-shot demonstrations may be provided as a table with an \"Answer\" column. Let's see how it can be used to generate a bulleted list of tips for each class."
   ]
  },
  {
   "cell_type": "code",
   "execution_count": 14,
   "metadata": {
    "colab": {
     "base_uri": "https://localhost:8080/",
     "height": 390
    },
    "id": "vNkFtcoagm3R",
    "outputId": "2d8a4266-07ea-43f1-82b7-6be9a355d722"
   },
   "outputs": [
    {
     "name": "stderr",
     "output_type": "stream",
     "text": [
      "2024-10-20 14:05:43,782 - INFO - HTTP Request: POST https://api.openai.com/v1/chat/completions \"HTTP/1.1 200 OK\"\n",
      "2024-10-20 14:05:43,786 - INFO - HTTP Request: POST https://api.openai.com/v1/chat/completions \"HTTP/1.1 200 OK\"\n",
      "2024-10-20 14:05:43,791 - INFO - HTTP Request: POST https://api.openai.com/v1/chat/completions \"HTTP/1.1 200 OK\"\n",
      "2024-10-20 14:05:43,984 - INFO - HTTP Request: POST https://api.openai.com/v1/chat/completions \"HTTP/1.1 200 OK\"\n",
      "2024-10-20 14:05:43,990 - INFO - HTTP Request: POST https://api.openai.com/v1/chat/completions \"HTTP/1.1 200 OK\"\n",
      "2024-10-20 14:05:44,292 - INFO - HTTP Request: POST https://api.openai.com/v1/chat/completions \"HTTP/1.1 200 OK\"\n",
      "2024-10-20 14:05:44,497 - INFO - HTTP Request: POST https://api.openai.com/v1/chat/completions \"HTTP/1.1 200 OK\"\n",
      "2024-10-20 14:05:44,501 - INFO - HTTP Request: POST https://api.openai.com/v1/chat/completions \"HTTP/1.1 200 OK\"\n",
      "2024-10-20 14:05:44,503 - INFO - HTTP Request: POST https://api.openai.com/v1/chat/completions \"HTTP/1.1 200 OK\"\n",
      "2024-10-20 14:05:44,702 - INFO - HTTP Request: POST https://api.openai.com/v1/chat/completions \"HTTP/1.1 200 OK\"\n",
      "2024-10-20 14:06:05,183 - INFO - HTTP Request: POST https://api.openai.com/v1/chat/completions \"HTTP/1.1 200 OK\"\n"
     ]
    },
    {
     "data": {
      "text/html": [
       "<div>\n",
       "<style scoped>\n",
       "    .dataframe tbody tr th:only-of-type {\n",
       "        vertical-align: middle;\n",
       "    }\n",
       "\n",
       "    .dataframe tbody tr th {\n",
       "        vertical-align: top;\n",
       "    }\n",
       "\n",
       "    .dataframe thead th {\n",
       "        text-align: right;\n",
       "    }\n",
       "</style>\n",
       "<table border=\"1\" class=\"dataframe\">\n",
       "  <thead>\n",
       "    <tr style=\"text-align: right;\">\n",
       "      <th></th>\n",
       "      <th>Course Name</th>\n",
       "      <th>cluster_id</th>\n",
       "      <th>_map</th>\n",
       "    </tr>\n",
       "  </thead>\n",
       "  <tbody>\n",
       "    <tr>\n",
       "      <th>0</th>\n",
       "      <td>Probability and Random Processes</td>\n",
       "      <td>1</td>\n",
       "      <td>1. Master the basics of probability theory, in...</td>\n",
       "    </tr>\n",
       "    <tr>\n",
       "      <th>1</th>\n",
       "      <td>Optimization Methods in Engineering</td>\n",
       "      <td>2</td>\n",
       "      <td>1. Master the basics of optimization theory, i...</td>\n",
       "    </tr>\n",
       "    <tr>\n",
       "      <th>2</th>\n",
       "      <td>Digital Design and Integrated Circuits</td>\n",
       "      <td>1</td>\n",
       "      <td>1. Master the basics of digital logic design, ...</td>\n",
       "    </tr>\n",
       "    <tr>\n",
       "      <th>3</th>\n",
       "      <td>Computer Security</td>\n",
       "      <td>1</td>\n",
       "      <td>1. Familiarize yourself with key concepts: Und...</td>\n",
       "    </tr>\n",
       "    <tr>\n",
       "      <th>4</th>\n",
       "      <td>Operating Systems and Systems Programming</td>\n",
       "      <td>1</td>\n",
       "      <td>1. **Master the Basics**: Ensure you have a so...</td>\n",
       "    </tr>\n",
       "    <tr>\n",
       "      <th>5</th>\n",
       "      <td>Compilers</td>\n",
       "      <td>0</td>\n",
       "      <td>1. **Master the Basics**: Ensure you have a st...</td>\n",
       "    </tr>\n",
       "    <tr>\n",
       "      <th>6</th>\n",
       "      <td>Computer Networks</td>\n",
       "      <td>1</td>\n",
       "      <td>1. Master the OSI and TCP/IP models: Familiari...</td>\n",
       "    </tr>\n",
       "    <tr>\n",
       "      <th>7</th>\n",
       "      <td>Deep Learning</td>\n",
       "      <td>1</td>\n",
       "      <td>1. Master the basics of neural networks: Under...</td>\n",
       "    </tr>\n",
       "    <tr>\n",
       "      <th>8</th>\n",
       "      <td>Graphics</td>\n",
       "      <td>0</td>\n",
       "      <td>1. Master the basics of 2D and 3D graphics con...</td>\n",
       "    </tr>\n",
       "    <tr>\n",
       "      <th>9</th>\n",
       "      <td>Databases</td>\n",
       "      <td>0</td>\n",
       "      <td>1. Master SQL: Practice writing complex querie...</td>\n",
       "    </tr>\n",
       "    <tr>\n",
       "      <th>10</th>\n",
       "      <td>Art History</td>\n",
       "      <td>1</td>\n",
       "      <td>1. Familiarize yourself with key art movements...</td>\n",
       "    </tr>\n",
       "  </tbody>\n",
       "</table>\n",
       "</div>"
      ],
      "text/plain": [
       "                                  Course Name  cluster_id  \\\n",
       "0            Probability and Random Processes           1   \n",
       "1         Optimization Methods in Engineering           2   \n",
       "2      Digital Design and Integrated Circuits           1   \n",
       "3                           Computer Security           1   \n",
       "4   Operating Systems and Systems Programming           1   \n",
       "5                                   Compilers           0   \n",
       "6                           Computer Networks           1   \n",
       "7                               Deep Learning           1   \n",
       "8                                    Graphics           0   \n",
       "9                                   Databases           0   \n",
       "10                                Art History           1   \n",
       "\n",
       "                                                 _map  \n",
       "0   1. Master the basics of probability theory, in...  \n",
       "1   1. Master the basics of optimization theory, i...  \n",
       "2   1. Master the basics of digital logic design, ...  \n",
       "3   1. Familiarize yourself with key concepts: Und...  \n",
       "4   1. **Master the Basics**: Ensure you have a so...  \n",
       "5   1. **Master the Basics**: Ensure you have a st...  \n",
       "6   1. Master the OSI and TCP/IP models: Familiari...  \n",
       "7   1. Master the basics of neural networks: Under...  \n",
       "8   1. Master the basics of 2D and 3D graphics con...  \n",
       "9   1. Master SQL: Practice writing complex querie...  \n",
       "10  1. Familiarize yourself with key art movements...  "
      ]
     },
     "execution_count": 14,
     "metadata": {},
     "output_type": "execute_result"
    }
   ],
   "source": [
    "examples_df = pd.DataFrame({\"Course Name\": [\"Computer Architecture\"],\n",
    "                            \"Answer\": [\"1. Understand RISC-V fundamentals. 2. Spend time to understand memory consistency.\"]})\n",
    "\n",
    "df.sem_map(\"What are some tips for {Course Name}?\", examples=examples_df)"
   ]
  },
  {
   "cell_type": "markdown",
   "metadata": {
    "id": "dR4_1lb0hVIa"
   },
   "source": [
    "# Chain-of-Thought (CoT) Reasoning\n",
    "\n",
    "LOTUS supports CoT reasoning. Let's see how it can be used to filter for courses related to machine learning."
   ]
  },
  {
   "cell_type": "code",
   "execution_count": 15,
   "metadata": {
    "colab": {
     "base_uri": "https://localhost:8080/",
     "height": 275
    },
    "id": "KgMrNPHOhPj2",
    "outputId": "8407c177-6b10-42d0-a5f2-65d9d80fcb6d"
   },
   "outputs": [
    {
     "name": "stderr",
     "output_type": "stream",
     "text": [
      "2024-10-20 14:06:06,924 - INFO - HTTP Request: POST https://api.openai.com/v1/chat/completions \"HTTP/1.1 200 OK\"\n",
      "2024-10-20 14:06:06,926 - INFO - HTTP Request: POST https://api.openai.com/v1/chat/completions \"HTTP/1.1 200 OK\"\n",
      "2024-10-20 14:06:06,927 - INFO - HTTP Request: POST https://api.openai.com/v1/chat/completions \"HTTP/1.1 200 OK\"\n",
      "2024-10-20 14:06:07,005 - INFO - HTTP Request: POST https://api.openai.com/v1/chat/completions \"HTTP/1.1 200 OK\"\n",
      "2024-10-20 14:06:07,014 - INFO - HTTP Request: POST https://api.openai.com/v1/chat/completions \"HTTP/1.1 200 OK\"\n",
      "2024-10-20 14:06:07,037 - INFO - HTTP Request: POST https://api.openai.com/v1/chat/completions \"HTTP/1.1 200 OK\"\n",
      "2024-10-20 14:06:07,136 - INFO - HTTP Request: POST https://api.openai.com/v1/chat/completions \"HTTP/1.1 200 OK\"\n",
      "2024-10-20 14:06:07,169 - INFO - HTTP Request: POST https://api.openai.com/v1/chat/completions \"HTTP/1.1 200 OK\"\n",
      "2024-10-20 14:06:07,338 - INFO - HTTP Request: POST https://api.openai.com/v1/chat/completions \"HTTP/1.1 200 OK\"\n",
      "2024-10-20 14:06:07,404 - INFO - HTTP Request: POST https://api.openai.com/v1/chat/completions \"HTTP/1.1 200 OK\"\n",
      "2024-10-20 14:06:07,463 - INFO - HTTP Request: POST https://api.openai.com/v1/chat/completions \"HTTP/1.1 200 OK\"\n",
      "/home/wasit/miniconda3/envs/gem/lib/python3.10/site-packages/lotus/sem_ops/sem_filter.py:240: SettingWithCopyWarning: \n",
      "A value is trying to be set on a copy of a slice from a DataFrame.\n",
      "Try using .loc[row_indexer,col_indexer] = value instead\n",
      "\n",
      "See the caveats in the documentation: https://pandas.pydata.org/pandas-docs/stable/user_guide/indexing.html#returning-a-view-versus-a-copy\n",
      "  new_df[\"explanation\" + suffix] = filtered_explanations\n"
     ]
    },
    {
     "data": {
      "text/html": [
       "<div>\n",
       "<style scoped>\n",
       "    .dataframe tbody tr th:only-of-type {\n",
       "        vertical-align: middle;\n",
       "    }\n",
       "\n",
       "    .dataframe tbody tr th {\n",
       "        vertical-align: top;\n",
       "    }\n",
       "\n",
       "    .dataframe thead th {\n",
       "        text-align: right;\n",
       "    }\n",
       "</style>\n",
       "<table border=\"1\" class=\"dataframe\">\n",
       "  <thead>\n",
       "    <tr style=\"text-align: right;\">\n",
       "      <th></th>\n",
       "      <th>Course Name</th>\n",
       "      <th>cluster_id</th>\n",
       "      <th>explanation_filter</th>\n",
       "    </tr>\n",
       "  </thead>\n",
       "  <tbody>\n",
       "    <tr>\n",
       "      <th>0</th>\n",
       "      <td>Probability and Random Processes</td>\n",
       "      <td>1</td>\n",
       "      <td>Probability and random processes are essential...</td>\n",
       "    </tr>\n",
       "    <tr>\n",
       "      <th>1</th>\n",
       "      <td>Optimization Methods in Engineering</td>\n",
       "      <td>2</td>\n",
       "      <td>Optimization methods are crucial in machine le...</td>\n",
       "    </tr>\n",
       "    <tr>\n",
       "      <th>7</th>\n",
       "      <td>Deep Learning</td>\n",
       "      <td>1</td>\n",
       "      <td>Deep learning is a subset of machine learning,...</td>\n",
       "    </tr>\n",
       "    <tr>\n",
       "      <th>9</th>\n",
       "      <td>Databases</td>\n",
       "      <td>0</td>\n",
       "      <td>While databases are important for managing and...</td>\n",
       "    </tr>\n",
       "  </tbody>\n",
       "</table>\n",
       "</div>"
      ],
      "text/plain": [
       "                           Course Name  cluster_id  \\\n",
       "0     Probability and Random Processes           1   \n",
       "1  Optimization Methods in Engineering           2   \n",
       "7                        Deep Learning           1   \n",
       "9                            Databases           0   \n",
       "\n",
       "                                  explanation_filter  \n",
       "0  Probability and random processes are essential...  \n",
       "1  Optimization methods are crucial in machine le...  \n",
       "7  Deep learning is a subset of machine learning,...  \n",
       "9  While databases are important for managing and...  "
      ]
     },
     "execution_count": 15,
     "metadata": {},
     "output_type": "execute_result"
    }
   ],
   "source": [
    "cot_df = pd.DataFrame({\"Course Name\": [\"Computer Architecture\", \"Linear Algebra\"],\n",
    "                            \"Answer\": [False, True],\n",
    "                            \"Reasoning\": [\"Computer architecture is not directly related to machine learning\",\n",
    "                                          \"Linear algebra provides foundations for math for machine learning\"]})\n",
    "df.sem_filter(\"{Course Name} is very useful for machine learning\", examples=cot_df, strategy=\"cot\", return_explanations=True)"
   ]
  }
 ],
 "metadata": {
  "colab": {
   "provenance": []
  },
  "kernelspec": {
   "display_name": "Python 3 (ipykernel)",
   "language": "python",
   "name": "python3"
  },
  "language_info": {
   "codemirror_mode": {
    "name": "ipython",
    "version": 3
   },
   "file_extension": ".py",
   "mimetype": "text/x-python",
   "name": "python",
   "nbconvert_exporter": "python",
   "pygments_lexer": "ipython3",
   "version": "3.10.14"
  }
 },
 "nbformat": 4,
 "nbformat_minor": 4
}
