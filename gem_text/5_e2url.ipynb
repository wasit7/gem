{
 "cells": [
  {
   "cell_type": "code",
   "execution_count": 1,
   "id": "46cb21ea-343c-43e6-8540-926f4d2eb8a5",
   "metadata": {},
   "outputs": [
    {
     "data": {
      "text/plain": [
       "'https://en.wikipedia.org/wiki/Gemstone'"
      ]
     },
     "execution_count": 1,
     "metadata": {},
     "output_type": "execute_result"
    }
   ],
   "source": [
    "from SPARQLWrapper import SPARQLWrapper, JSON\n",
    "\n",
    "def get_wikiurl_wikidata(my_wiki_id ='Q83437'):\n",
    "    sparql = SPARQLWrapper(\"https://query.wikidata.org/sparql\")\n",
    "\n",
    "    query = \"\"\"\n",
    "    SELECT ?entity ?entityLabel ?wikipedia_url WHERE {\n",
    "      BIND(wd:[[my_wiki_id]] AS ?entity).\n",
    "      ?wikipedia_url schema:about ?entity;\n",
    "                     schema:isPartOf <https://en.wikipedia.org/>.\n",
    "      SERVICE wikibase:label { bd:serviceParam wikibase:language \"en\". }\n",
    "    }\n",
    "    \"\"\".replace('[[my_wiki_id]]',my_wiki_id)\n",
    "    \n",
    "    # Set up the SPARQL query\n",
    "    sparql.setQuery(query)\n",
    "    sparql.setReturnFormat(JSON)\n",
    "    \n",
    "    # Execute the query and retrieve the results\n",
    "    results = sparql.query().convert()\n",
    "    \n",
    "    # Process and print results\n",
    "    for result in results[\"results\"][\"bindings\"]:\n",
    "        entity_label = result[\"entityLabel\"][\"value\"]\n",
    "        wikipedia_url = result[\"wikipedia_url\"][\"value\"]\n",
    "        if wikipedia_url is not None:\n",
    "            return wikipedia_url\n",
    "    raise Exception('wikipedia_url is not found')\n",
    "\n",
    "get_wikiurl_wikidata()"
   ]
  },
  {
   "cell_type": "code",
   "execution_count": 2,
   "id": "33a2ae89-7f34-4245-8c2b-c597ac9665e2",
   "metadata": {},
   "outputs": [
    {
     "name": "stdout",
     "output_type": "stream",
     "text": [
      "<class 'pandas.core.frame.DataFrame'>\n",
      "RangeIndex: 1372 entries, 0 to 1371\n",
      "Data columns (total 1 columns):\n",
      " #   Column   Non-Null Count  Dtype \n",
      "---  ------   --------------  ----- \n",
      " 0   wiki_id  1372 non-null   object\n",
      "dtypes: object(1)\n",
      "memory usage: 10.8+ KB\n"
     ]
    },
    {
     "data": {
      "text/html": [
       "<div>\n",
       "<style scoped>\n",
       "    .dataframe tbody tr th:only-of-type {\n",
       "        vertical-align: middle;\n",
       "    }\n",
       "\n",
       "    .dataframe tbody tr th {\n",
       "        vertical-align: top;\n",
       "    }\n",
       "\n",
       "    .dataframe thead th {\n",
       "        text-align: right;\n",
       "    }\n",
       "</style>\n",
       "<table border=\"1\" class=\"dataframe\">\n",
       "  <thead>\n",
       "    <tr style=\"text-align: right;\">\n",
       "      <th></th>\n",
       "      <th>wiki_id</th>\n",
       "    </tr>\n",
       "  </thead>\n",
       "  <tbody>\n",
       "    <tr>\n",
       "      <th>0</th>\n",
       "      <td>Q43436</td>\n",
       "    </tr>\n",
       "    <tr>\n",
       "      <th>1</th>\n",
       "      <td>Q43088</td>\n",
       "    </tr>\n",
       "    <tr>\n",
       "      <th>2</th>\n",
       "      <td>Q5283</td>\n",
       "    </tr>\n",
       "    <tr>\n",
       "      <th>3</th>\n",
       "      <td>Q573870</td>\n",
       "    </tr>\n",
       "    <tr>\n",
       "      <th>4</th>\n",
       "      <td>Q612430</td>\n",
       "    </tr>\n",
       "  </tbody>\n",
       "</table>\n",
       "</div>"
      ],
      "text/plain": [
       "   wiki_id\n",
       "0   Q43436\n",
       "1   Q43088\n",
       "2    Q5283\n",
       "3  Q573870\n",
       "4  Q612430"
      ]
     },
     "execution_count": 2,
     "metadata": {},
     "output_type": "execute_result"
    }
   ],
   "source": [
    "import pandas as pd\n",
    "df_e=pd.read_csv('./data/3_e.csv')\n",
    "df_e.info()\n",
    "df_e.head()"
   ]
  },
  {
   "cell_type": "code",
   "execution_count": 3,
   "id": "8763b84c-39df-47e1-9d2e-9006943b05dc",
   "metadata": {},
   "outputs": [
    {
     "name": "stdout",
     "output_type": "stream",
     "text": [
      "Requirement already satisfied: monadsquishy in /home/wasit/miniconda3/envs/gem/lib/python3.10/site-packages (0.1.15)\n",
      "Requirement already satisfied: pandas==2.1.4 in /home/wasit/miniconda3/envs/gem/lib/python3.10/site-packages (from monadsquishy) (2.1.4)\n",
      "Requirement already satisfied: pyarrow==17.0.0 in /home/wasit/miniconda3/envs/gem/lib/python3.10/site-packages (from monadsquishy) (17.0.0)\n",
      "Requirement already satisfied: numpy<2,>=1.22.4 in /home/wasit/miniconda3/envs/gem/lib/python3.10/site-packages (from pandas==2.1.4->monadsquishy) (1.26.4)\n",
      "Requirement already satisfied: python-dateutil>=2.8.2 in /home/wasit/miniconda3/envs/gem/lib/python3.10/site-packages (from pandas==2.1.4->monadsquishy) (2.9.0.post0)\n",
      "Requirement already satisfied: pytz>=2020.1 in /home/wasit/miniconda3/envs/gem/lib/python3.10/site-packages (from pandas==2.1.4->monadsquishy) (2024.1)\n",
      "Requirement already satisfied: tzdata>=2022.1 in /home/wasit/miniconda3/envs/gem/lib/python3.10/site-packages (from pandas==2.1.4->monadsquishy) (2024.1)\n",
      "Requirement already satisfied: six>=1.5 in /home/wasit/miniconda3/envs/gem/lib/python3.10/site-packages (from python-dateutil>=2.8.2->pandas==2.1.4->monadsquishy) (1.16.0)\n",
      "Note: you may need to restart the kernel to use updated packages.\n"
     ]
    }
   ],
   "source": [
    "pip install monadsquishy -U"
   ]
  },
  {
   "cell_type": "code",
   "execution_count": 4,
   "id": "f66fbfb8-8715-47d4-8533-96821278c160",
   "metadata": {},
   "outputs": [
    {
     "name": "stdout",
     "output_type": "stream",
     "text": [
      "1/2 Output: wiki_id\n",
      "Input: wiki_id             \n",
      "Process: ['<lambda>']\n"
     ]
    },
    {
     "data": {
      "application/vnd.jupyter.widget-view+json": {
       "model_id": "14b9da51881c4e209a98237f4f7af78d",
       "version_major": 2,
       "version_minor": 0
      },
      "text/plain": [
       "  0%|          | 0/1372 [00:00<?, ?it/s]"
      ]
     },
     "metadata": {},
     "output_type": "display_data"
    },
    {
     "name": "stdout",
     "output_type": "stream",
     "text": [
      "2/2 Output: url\n",
      "Input: wiki_id             \n",
      "Process: ['get_wikiurl_wikidata']\n"
     ]
    },
    {
     "data": {
      "application/vnd.jupyter.widget-view+json": {
       "model_id": "ea51da81336f496e9719a4ac9fcb9388",
       "version_major": 2,
       "version_minor": 0
      },
      "text/plain": [
       "  0%|          | 0/1372 [00:00<?, ?it/s]"
      ]
     },
     "metadata": {},
     "output_type": "display_data"
    },
    {
     "name": "stdout",
     "output_type": "stream",
     "text": [
      ">> Finished transformations!\n"
     ]
    }
   ],
   "source": [
    "from monadsquishy import Squishy, sf\n",
    "sq_config = {\n",
    "    'transformations':[\n",
    "        {\n",
    "            'input_table': df_e,\n",
    "            'transformed_path':'./staging/url',\n",
    "            'exploded_path':'./staging/url',\n",
    "            'out_columns': {\n",
    "                 'wiki_id': {\n",
    "                     'input':'wiki_id',\n",
    "                     'funcs':[lambda x:x, ],\n",
    "                 },\n",
    "                 'url': {\n",
    "                     'input':'wiki_id',\n",
    "                     'funcs':[get_wikiurl_wikidata, ],\n",
    "                 }\n",
    "             }\n",
    "        }\n",
    "    ]\n",
    "}\n",
    "sq=Squishy(sq_config)\n",
    "sq.run()"
   ]
  },
  {
   "cell_type": "code",
   "execution_count": 5,
   "id": "a13b8f3e-4d6e-4697-a98b-cf6fd3040cb7",
   "metadata": {},
   "outputs": [
    {
     "data": {
      "text/html": [
       "<div>\n",
       "<style scoped>\n",
       "    .dataframe tbody tr th:only-of-type {\n",
       "        vertical-align: middle;\n",
       "    }\n",
       "\n",
       "    .dataframe tbody tr th {\n",
       "        vertical-align: top;\n",
       "    }\n",
       "\n",
       "    .dataframe thead th {\n",
       "        text-align: right;\n",
       "    }\n",
       "</style>\n",
       "<table border=\"1\" class=\"dataframe\">\n",
       "  <thead>\n",
       "    <tr style=\"text-align: right;\">\n",
       "      <th></th>\n",
       "      <th>input_column</th>\n",
       "      <th>output_column</th>\n",
       "      <th>message</th>\n",
       "      <th>clean_count</th>\n",
       "    </tr>\n",
       "  </thead>\n",
       "  <tbody>\n",
       "    <tr>\n",
       "      <th>1</th>\n",
       "      <td>wiki_id</td>\n",
       "      <td>wiki_id</td>\n",
       "      <td>Passed: &lt;lambda&gt;()</td>\n",
       "      <td>1372</td>\n",
       "    </tr>\n",
       "    <tr>\n",
       "      <th>0</th>\n",
       "      <td>wiki_id</td>\n",
       "      <td>url</td>\n",
       "      <td>Passed: get_wikiurl_wikidata()</td>\n",
       "      <td>682</td>\n",
       "    </tr>\n",
       "  </tbody>\n",
       "</table>\n",
       "</div>"
      ],
      "text/plain": [
       "  input_column output_column                         message  clean_count\n",
       "1      wiki_id       wiki_id              Passed: <lambda>()         1372\n",
       "0      wiki_id           url  Passed: get_wikiurl_wikidata()          682"
      ]
     },
     "execution_count": 5,
     "metadata": {},
     "output_type": "execute_result"
    }
   ],
   "source": [
    "sq.clean_report()"
   ]
  },
  {
   "cell_type": "code",
   "execution_count": 6,
   "id": "b552e9ec-dbc5-4793-8b63-bd1f637e4e84",
   "metadata": {},
   "outputs": [
    {
     "data": {
      "text/html": [
       "<div>\n",
       "<style scoped>\n",
       "    .dataframe tbody tr th:only-of-type {\n",
       "        vertical-align: middle;\n",
       "    }\n",
       "\n",
       "    .dataframe tbody tr th {\n",
       "        vertical-align: top;\n",
       "    }\n",
       "\n",
       "    .dataframe thead th {\n",
       "        text-align: right;\n",
       "    }\n",
       "</style>\n",
       "<table border=\"1\" class=\"dataframe\">\n",
       "  <thead>\n",
       "    <tr style=\"text-align: right;\">\n",
       "      <th></th>\n",
       "      <th>input_column</th>\n",
       "      <th>output_column</th>\n",
       "      <th>input_value</th>\n",
       "      <th>dirty_count</th>\n",
       "    </tr>\n",
       "  </thead>\n",
       "  <tbody>\n",
       "    <tr>\n",
       "      <th>0</th>\n",
       "      <td>wiki_id</td>\n",
       "      <td>url</td>\n",
       "      <td>P1088</td>\n",
       "      <td>1</td>\n",
       "    </tr>\n",
       "    <tr>\n",
       "      <th>1</th>\n",
       "      <td>wiki_id</td>\n",
       "      <td>url</td>\n",
       "      <td>P1632</td>\n",
       "      <td>1</td>\n",
       "    </tr>\n",
       "    <tr>\n",
       "      <th>2</th>\n",
       "      <td>wiki_id</td>\n",
       "      <td>url</td>\n",
       "      <td>P2054</td>\n",
       "      <td>1</td>\n",
       "    </tr>\n",
       "    <tr>\n",
       "      <th>3</th>\n",
       "      <td>wiki_id</td>\n",
       "      <td>url</td>\n",
       "      <td>P2177</td>\n",
       "      <td>1</td>\n",
       "    </tr>\n",
       "    <tr>\n",
       "      <th>4</th>\n",
       "      <td>wiki_id</td>\n",
       "      <td>url</td>\n",
       "      <td>P462</td>\n",
       "      <td>1</td>\n",
       "    </tr>\n",
       "    <tr>\n",
       "      <th>...</th>\n",
       "      <td>...</td>\n",
       "      <td>...</td>\n",
       "      <td>...</td>\n",
       "      <td>...</td>\n",
       "    </tr>\n",
       "    <tr>\n",
       "      <th>685</th>\n",
       "      <td>wiki_id</td>\n",
       "      <td>url</td>\n",
       "      <td>Q98194857</td>\n",
       "      <td>1</td>\n",
       "    </tr>\n",
       "    <tr>\n",
       "      <th>686</th>\n",
       "      <td>wiki_id</td>\n",
       "      <td>url</td>\n",
       "      <td>Q98592852</td>\n",
       "      <td>1</td>\n",
       "    </tr>\n",
       "    <tr>\n",
       "      <th>687</th>\n",
       "      <td>wiki_id</td>\n",
       "      <td>url</td>\n",
       "      <td>Q98876273</td>\n",
       "      <td>1</td>\n",
       "    </tr>\n",
       "    <tr>\n",
       "      <th>688</th>\n",
       "      <td>wiki_id</td>\n",
       "      <td>url</td>\n",
       "      <td>Q98878795</td>\n",
       "      <td>1</td>\n",
       "    </tr>\n",
       "    <tr>\n",
       "      <th>689</th>\n",
       "      <td>wiki_id</td>\n",
       "      <td>url</td>\n",
       "      <td>Q98879417</td>\n",
       "      <td>1</td>\n",
       "    </tr>\n",
       "  </tbody>\n",
       "</table>\n",
       "<p>690 rows × 4 columns</p>\n",
       "</div>"
      ],
      "text/plain": [
       "    input_column output_column input_value  dirty_count\n",
       "0        wiki_id           url       P1088            1\n",
       "1        wiki_id           url       P1632            1\n",
       "2        wiki_id           url       P2054            1\n",
       "3        wiki_id           url       P2177            1\n",
       "4        wiki_id           url        P462            1\n",
       "..           ...           ...         ...          ...\n",
       "685      wiki_id           url   Q98194857            1\n",
       "686      wiki_id           url   Q98592852            1\n",
       "687      wiki_id           url   Q98876273            1\n",
       "688      wiki_id           url   Q98878795            1\n",
       "689      wiki_id           url   Q98879417            1\n",
       "\n",
       "[690 rows x 4 columns]"
      ]
     },
     "execution_count": 6,
     "metadata": {},
     "output_type": "execute_result"
    }
   ],
   "source": [
    "sq.dirty_report()"
   ]
  },
  {
   "cell_type": "code",
   "execution_count": 7,
   "id": "6e3fa4a9-1a14-41bf-b098-3f339e6f0b6d",
   "metadata": {},
   "outputs": [
    {
     "data": {
      "text/html": [
       "<div>\n",
       "<style scoped>\n",
       "    .dataframe tbody tr th:only-of-type {\n",
       "        vertical-align: middle;\n",
       "    }\n",
       "\n",
       "    .dataframe tbody tr th {\n",
       "        vertical-align: top;\n",
       "    }\n",
       "\n",
       "    .dataframe thead th {\n",
       "        text-align: right;\n",
       "    }\n",
       "</style>\n",
       "<table border=\"1\" class=\"dataframe\">\n",
       "  <thead>\n",
       "    <tr style=\"text-align: right;\">\n",
       "      <th></th>\n",
       "      <th>wiki_id</th>\n",
       "      <th>url</th>\n",
       "    </tr>\n",
       "  </thead>\n",
       "  <tbody>\n",
       "    <tr>\n",
       "      <th>0</th>\n",
       "      <td>Q43436</td>\n",
       "      <td>https://en.wikipedia.org/wiki/Pearl</td>\n",
       "    </tr>\n",
       "    <tr>\n",
       "      <th>1</th>\n",
       "      <td>Q43088</td>\n",
       "      <td>https://en.wikipedia.org/wiki/Ruby</td>\n",
       "    </tr>\n",
       "    <tr>\n",
       "      <th>2</th>\n",
       "      <td>Q5283</td>\n",
       "      <td>https://en.wikipedia.org/wiki/Diamond</td>\n",
       "    </tr>\n",
       "    <tr>\n",
       "      <th>3</th>\n",
       "      <td>Q573870</td>\n",
       "      <td>https://en.wikipedia.org/wiki/Bi_(jade)</td>\n",
       "    </tr>\n",
       "    <tr>\n",
       "      <th>4</th>\n",
       "      <td>Q612430</td>\n",
       "      <td>None</td>\n",
       "    </tr>\n",
       "    <tr>\n",
       "      <th>...</th>\n",
       "      <td>...</td>\n",
       "      <td>...</td>\n",
       "    </tr>\n",
       "    <tr>\n",
       "      <th>1367</th>\n",
       "      <td>Q483958</td>\n",
       "      <td>https://en.wikipedia.org/wiki/Okanogan_County,...</td>\n",
       "    </tr>\n",
       "    <tr>\n",
       "      <th>1368</th>\n",
       "      <td>Q122510</td>\n",
       "      <td>None</td>\n",
       "    </tr>\n",
       "    <tr>\n",
       "      <th>1369</th>\n",
       "      <td>Q7972122</td>\n",
       "      <td>https://en.wikipedia.org/wiki/Washington_Pass</td>\n",
       "    </tr>\n",
       "    <tr>\n",
       "      <th>1370</th>\n",
       "      <td>Q6731423</td>\n",
       "      <td>https://en.wikipedia.org/wiki/Magnet_Cove_igne...</td>\n",
       "    </tr>\n",
       "    <tr>\n",
       "      <th>1371</th>\n",
       "      <td>Q17267670</td>\n",
       "      <td>None</td>\n",
       "    </tr>\n",
       "  </tbody>\n",
       "</table>\n",
       "<p>1372 rows × 2 columns</p>\n",
       "</div>"
      ],
      "text/plain": [
       "        wiki_id                                                url\n",
       "0        Q43436                https://en.wikipedia.org/wiki/Pearl\n",
       "1        Q43088                 https://en.wikipedia.org/wiki/Ruby\n",
       "2         Q5283              https://en.wikipedia.org/wiki/Diamond\n",
       "3       Q573870            https://en.wikipedia.org/wiki/Bi_(jade)\n",
       "4       Q612430                                               None\n",
       "...         ...                                                ...\n",
       "1367    Q483958  https://en.wikipedia.org/wiki/Okanogan_County,...\n",
       "1368    Q122510                                               None\n",
       "1369   Q7972122      https://en.wikipedia.org/wiki/Washington_Pass\n",
       "1370   Q6731423  https://en.wikipedia.org/wiki/Magnet_Cove_igne...\n",
       "1371  Q17267670                                               None\n",
       "\n",
       "[1372 rows x 2 columns]"
      ]
     },
     "execution_count": 7,
     "metadata": {},
     "output_type": "execute_result"
    }
   ],
   "source": [
    "sq.output()"
   ]
  },
  {
   "cell_type": "code",
   "execution_count": 8,
   "id": "db882198-6912-4cfb-b69c-983a7254da47",
   "metadata": {},
   "outputs": [
    {
     "data": {
      "text/plain": [
       "['Q43436', 'Q43088', 'Q5283']"
      ]
     },
     "execution_count": 8,
     "metadata": {},
     "output_type": "execute_result"
    }
   ],
   "source": [
    "entity_list = list(df_e['wiki_id'])[:3]\n",
    "len(entity_list)\n",
    "entity_list"
   ]
  },
  {
   "cell_type": "code",
   "execution_count": 12,
   "id": "0d5a7d68-a677-45bc-9124-8e542e3516de",
   "metadata": {},
   "outputs": [
    {
     "data": {
      "application/vnd.jupyter.widget-view+json": {
       "model_id": "18516e07ecc044868ef06000348cd2cd",
       "version_major": 2,
       "version_minor": 0
      },
      "text/plain": [
       "  0%|          | 0/3 [00:00<?, ?it/s]"
      ]
     },
     "metadata": {},
     "output_type": "display_data"
    },
    {
     "data": {
      "text/plain": [
       "{'Q43436': 'https://en.wikipedia.org/wiki/Pearl',\n",
       " 'Q43088': 'https://en.wikipedia.org/wiki/Ruby',\n",
       " 'Q5283': 'https://en.wikipedia.org/wiki/Diamond'}"
      ]
     },
     "execution_count": 12,
     "metadata": {},
     "output_type": "execute_result"
    }
   ],
   "source": [
    "from tqdm.auto import tqdm\n",
    "urls={}\n",
    "pbar = tqdm(entity_list)\n",
    "for e in pbar:\n",
    "    pbar.set_description(f'Query entity: {e:<15}')\n",
    "    urls[e] = get_wikiurl_wikidata(e)\n",
    "\n",
    "urls"
   ]
  },
  {
   "cell_type": "code",
   "execution_count": null,
   "id": "3ac8bac6-8704-4ab3-83e9-04d20db212b2",
   "metadata": {},
   "outputs": [],
   "source": []
  }
 ],
 "metadata": {
  "kernelspec": {
   "display_name": "Python 3 (ipykernel)",
   "language": "python",
   "name": "python3"
  },
  "language_info": {
   "codemirror_mode": {
    "name": "ipython",
    "version": 3
   },
   "file_extension": ".py",
   "mimetype": "text/x-python",
   "name": "python",
   "nbconvert_exporter": "python",
   "pygments_lexer": "ipython3",
   "version": "3.10.14"
  }
 },
 "nbformat": 4,
 "nbformat_minor": 5
}
