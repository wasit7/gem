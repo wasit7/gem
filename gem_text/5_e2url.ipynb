{
 "cells": [
  {
   "cell_type": "code",
   "execution_count": 16,
   "id": "46cb21ea-343c-43e6-8540-926f4d2eb8a5",
   "metadata": {},
   "outputs": [
    {
     "data": {
      "text/plain": [
       "'https://en.wikipedia.org/wiki/Gemstone'"
      ]
     },
     "execution_count": 16,
     "metadata": {},
     "output_type": "execute_result"
    }
   ],
   "source": [
    "from SPARQLWrapper import SPARQLWrapper, JSON\n",
    "\n",
    "def get_wikiurl_wikidata(my_wiki_id ='Q83437'):\n",
    "    sparql = SPARQLWrapper(\"https://query.wikidata.org/sparql\")\n",
    "\n",
    "    query = \"\"\"\n",
    "    SELECT ?entity ?entityLabel ?wikipedia_url WHERE {\n",
    "      BIND(wd:[[my_wiki_id]] AS ?entity).\n",
    "      ?wikipedia_url schema:about ?entity;\n",
    "                     schema:isPartOf <https://en.wikipedia.org/>.\n",
    "      SERVICE wikibase:label { bd:serviceParam wikibase:language \"en\". }\n",
    "    }\n",
    "    \"\"\".replace('[[my_wiki_id]]',my_wiki_id)\n",
    "    \n",
    "    # Set up the SPARQL query\n",
    "    sparql.setQuery(query)\n",
    "    sparql.setReturnFormat(JSON)\n",
    "    \n",
    "    # Execute the query and retrieve the results\n",
    "    results = sparql.query().convert()\n",
    "    \n",
    "    # Process and print results\n",
    "    for result in results[\"results\"][\"bindings\"]:\n",
    "        entity_label = result[\"entityLabel\"][\"value\"]\n",
    "        wikipedia_url = result[\"wikipedia_url\"][\"value\"]\n",
    "        if wikipedia_url is not None:\n",
    "            return wikipedia_url\n",
    "    raise Exception('wikipedia_url is not found')\n",
    "\n",
    "get_wikiurl_wikidata()"
   ]
  },
  {
   "cell_type": "code",
   "execution_count": 17,
   "id": "33a2ae89-7f34-4245-8c2b-c597ac9665e2",
   "metadata": {},
   "outputs": [
    {
     "name": "stdout",
     "output_type": "stream",
     "text": [
      "<class 'pandas.core.frame.DataFrame'>\n",
      "RangeIndex: 424 entries, 0 to 423\n",
      "Data columns (total 1 columns):\n",
      " #   Column   Non-Null Count  Dtype \n",
      "---  ------   --------------  ----- \n",
      " 0   wiki_id  424 non-null    object\n",
      "dtypes: object(1)\n",
      "memory usage: 3.4+ KB\n"
     ]
    },
    {
     "data": {
      "text/html": [
       "<div>\n",
       "<style scoped>\n",
       "    .dataframe tbody tr th:only-of-type {\n",
       "        vertical-align: middle;\n",
       "    }\n",
       "\n",
       "    .dataframe tbody tr th {\n",
       "        vertical-align: top;\n",
       "    }\n",
       "\n",
       "    .dataframe thead th {\n",
       "        text-align: right;\n",
       "    }\n",
       "</style>\n",
       "<table border=\"1\" class=\"dataframe\">\n",
       "  <thead>\n",
       "    <tr style=\"text-align: right;\">\n",
       "      <th></th>\n",
       "      <th>wiki_id</th>\n",
       "    </tr>\n",
       "  </thead>\n",
       "  <tbody>\n",
       "    <tr>\n",
       "      <th>0</th>\n",
       "      <td>Q43436</td>\n",
       "    </tr>\n",
       "    <tr>\n",
       "      <th>1</th>\n",
       "      <td>Q43088</td>\n",
       "    </tr>\n",
       "    <tr>\n",
       "      <th>2</th>\n",
       "      <td>Q43513</td>\n",
       "    </tr>\n",
       "    <tr>\n",
       "      <th>3</th>\n",
       "      <td>Q5283</td>\n",
       "    </tr>\n",
       "    <tr>\n",
       "      <th>4</th>\n",
       "      <td>Q4700957</td>\n",
       "    </tr>\n",
       "  </tbody>\n",
       "</table>\n",
       "</div>"
      ],
      "text/plain": [
       "    wiki_id\n",
       "0    Q43436\n",
       "1    Q43088\n",
       "2    Q43513\n",
       "3     Q5283\n",
       "4  Q4700957"
      ]
     },
     "execution_count": 17,
     "metadata": {},
     "output_type": "execute_result"
    }
   ],
   "source": [
    "import pandas as pd\n",
    "df_e=pd.read_csv('e.csv')\n",
    "df_e.info()\n",
    "df_e.head()"
   ]
  },
  {
   "cell_type": "code",
   "execution_count": 18,
   "id": "8763b84c-39df-47e1-9d2e-9006943b05dc",
   "metadata": {},
   "outputs": [],
   "source": [
    "# pip install monadsquishy -U"
   ]
  },
  {
   "cell_type": "code",
   "execution_count": 19,
   "id": "f66fbfb8-8715-47d4-8533-96821278c160",
   "metadata": {},
   "outputs": [
    {
     "name": "stdout",
     "output_type": "stream",
     "text": [
      "1/2 Output: wiki_id\n",
      "Input: wiki_id              -->['<lambda>']                                                                                                                                                                                            \n",
      "\n",
      "2/2 Output: url\n",
      "Input: wiki_id              -->['get_wikiurl_wikidata']                                                                                                                                                                                \n",
      "\n",
      "Finished transformations!\n"
     ]
    }
   ],
   "source": [
    "from monadsquishy import Squishy, sf\n",
    "sq_config = {\n",
    "    'transformations':[\n",
    "        {\n",
    "            'input_table': df_e,\n",
    "            'transformed_path':'./staging/url',\n",
    "            'exploded_path':'./staging/url',\n",
    "            'out_columns': {\n",
    "                 'wiki_id': {\n",
    "                     'input':'wiki_id',\n",
    "                     'funcs':[lambda x:x, ],\n",
    "                 },\n",
    "                 'url': {\n",
    "                     'input':'wiki_id',\n",
    "                     'funcs':[get_wikiurl_wikidata, ],\n",
    "                 }\n",
    "             }\n",
    "        }\n",
    "    ]\n",
    "}\n",
    "sq=Squishy(sq_config)\n",
    "sq.run()"
   ]
  },
  {
   "cell_type": "code",
   "execution_count": 20,
   "id": "a13b8f3e-4d6e-4697-a98b-cf6fd3040cb7",
   "metadata": {},
   "outputs": [
    {
     "data": {
      "text/html": [
       "<div>\n",
       "<style scoped>\n",
       "    .dataframe tbody tr th:only-of-type {\n",
       "        vertical-align: middle;\n",
       "    }\n",
       "\n",
       "    .dataframe tbody tr th {\n",
       "        vertical-align: top;\n",
       "    }\n",
       "\n",
       "    .dataframe thead th {\n",
       "        text-align: right;\n",
       "    }\n",
       "</style>\n",
       "<table border=\"1\" class=\"dataframe\">\n",
       "  <thead>\n",
       "    <tr style=\"text-align: right;\">\n",
       "      <th></th>\n",
       "      <th>input_column</th>\n",
       "      <th>output_column</th>\n",
       "      <th>message</th>\n",
       "      <th>clean_count</th>\n",
       "    </tr>\n",
       "  </thead>\n",
       "  <tbody>\n",
       "    <tr>\n",
       "      <th>1</th>\n",
       "      <td>wiki_id</td>\n",
       "      <td>wiki_id</td>\n",
       "      <td>Passed: &lt;lambda&gt;()</td>\n",
       "      <td>424</td>\n",
       "    </tr>\n",
       "    <tr>\n",
       "      <th>0</th>\n",
       "      <td>wiki_id</td>\n",
       "      <td>url</td>\n",
       "      <td>Passed: get_wikiurl_wikidata()</td>\n",
       "      <td>271</td>\n",
       "    </tr>\n",
       "  </tbody>\n",
       "</table>\n",
       "</div>"
      ],
      "text/plain": [
       "  input_column output_column                         message  clean_count\n",
       "1      wiki_id       wiki_id              Passed: <lambda>()          424\n",
       "0      wiki_id           url  Passed: get_wikiurl_wikidata()          271"
      ]
     },
     "execution_count": 20,
     "metadata": {},
     "output_type": "execute_result"
    }
   ],
   "source": [
    "sq.clean_report()"
   ]
  },
  {
   "cell_type": "code",
   "execution_count": 21,
   "id": "b552e9ec-dbc5-4793-8b63-bd1f637e4e84",
   "metadata": {},
   "outputs": [
    {
     "data": {
      "text/html": [
       "<div>\n",
       "<style scoped>\n",
       "    .dataframe tbody tr th:only-of-type {\n",
       "        vertical-align: middle;\n",
       "    }\n",
       "\n",
       "    .dataframe tbody tr th {\n",
       "        vertical-align: top;\n",
       "    }\n",
       "\n",
       "    .dataframe thead th {\n",
       "        text-align: right;\n",
       "    }\n",
       "</style>\n",
       "<table border=\"1\" class=\"dataframe\">\n",
       "  <thead>\n",
       "    <tr style=\"text-align: right;\">\n",
       "      <th></th>\n",
       "      <th>input_column</th>\n",
       "      <th>output_column</th>\n",
       "      <th>input_value</th>\n",
       "      <th>dirty_count</th>\n",
       "    </tr>\n",
       "  </thead>\n",
       "  <tbody>\n",
       "    <tr>\n",
       "      <th>0</th>\n",
       "      <td>wiki_id</td>\n",
       "      <td>url</td>\n",
       "      <td>Q10350376</td>\n",
       "      <td>1</td>\n",
       "    </tr>\n",
       "    <tr>\n",
       "      <th>1</th>\n",
       "      <td>wiki_id</td>\n",
       "      <td>url</td>\n",
       "      <td>Q10428697</td>\n",
       "      <td>1</td>\n",
       "    </tr>\n",
       "    <tr>\n",
       "      <th>2</th>\n",
       "      <td>wiki_id</td>\n",
       "      <td>url</td>\n",
       "      <td>Q104708160</td>\n",
       "      <td>1</td>\n",
       "    </tr>\n",
       "    <tr>\n",
       "      <th>3</th>\n",
       "      <td>wiki_id</td>\n",
       "      <td>url</td>\n",
       "      <td>Q1058175</td>\n",
       "      <td>1</td>\n",
       "    </tr>\n",
       "    <tr>\n",
       "      <th>4</th>\n",
       "      <td>wiki_id</td>\n",
       "      <td>url</td>\n",
       "      <td>Q106878323</td>\n",
       "      <td>1</td>\n",
       "    </tr>\n",
       "    <tr>\n",
       "      <th>...</th>\n",
       "      <td>...</td>\n",
       "      <td>...</td>\n",
       "      <td>...</td>\n",
       "      <td>...</td>\n",
       "    </tr>\n",
       "    <tr>\n",
       "      <th>148</th>\n",
       "      <td>wiki_id</td>\n",
       "      <td>url</td>\n",
       "      <td>Q89675973</td>\n",
       "      <td>1</td>\n",
       "    </tr>\n",
       "    <tr>\n",
       "      <th>149</th>\n",
       "      <td>wiki_id</td>\n",
       "      <td>url</td>\n",
       "      <td>Q9206678</td>\n",
       "      <td>1</td>\n",
       "    </tr>\n",
       "    <tr>\n",
       "      <th>150</th>\n",
       "      <td>wiki_id</td>\n",
       "      <td>url</td>\n",
       "      <td>Q9324384</td>\n",
       "      <td>1</td>\n",
       "    </tr>\n",
       "    <tr>\n",
       "      <th>151</th>\n",
       "      <td>wiki_id</td>\n",
       "      <td>url</td>\n",
       "      <td>Q97097388</td>\n",
       "      <td>1</td>\n",
       "    </tr>\n",
       "    <tr>\n",
       "      <th>152</th>\n",
       "      <td>wiki_id</td>\n",
       "      <td>url</td>\n",
       "      <td>Q97619592</td>\n",
       "      <td>1</td>\n",
       "    </tr>\n",
       "  </tbody>\n",
       "</table>\n",
       "<p>153 rows × 4 columns</p>\n",
       "</div>"
      ],
      "text/plain": [
       "    input_column output_column input_value  dirty_count\n",
       "0        wiki_id           url   Q10350376            1\n",
       "1        wiki_id           url   Q10428697            1\n",
       "2        wiki_id           url  Q104708160            1\n",
       "3        wiki_id           url    Q1058175            1\n",
       "4        wiki_id           url  Q106878323            1\n",
       "..           ...           ...         ...          ...\n",
       "148      wiki_id           url   Q89675973            1\n",
       "149      wiki_id           url    Q9206678            1\n",
       "150      wiki_id           url    Q9324384            1\n",
       "151      wiki_id           url   Q97097388            1\n",
       "152      wiki_id           url   Q97619592            1\n",
       "\n",
       "[153 rows x 4 columns]"
      ]
     },
     "execution_count": 21,
     "metadata": {},
     "output_type": "execute_result"
    }
   ],
   "source": [
    "sq.dirty_report()"
   ]
  },
  {
   "cell_type": "code",
   "execution_count": 22,
   "id": "6e3fa4a9-1a14-41bf-b098-3f339e6f0b6d",
   "metadata": {},
   "outputs": [
    {
     "data": {
      "text/html": [
       "<div>\n",
       "<style scoped>\n",
       "    .dataframe tbody tr th:only-of-type {\n",
       "        vertical-align: middle;\n",
       "    }\n",
       "\n",
       "    .dataframe tbody tr th {\n",
       "        vertical-align: top;\n",
       "    }\n",
       "\n",
       "    .dataframe thead th {\n",
       "        text-align: right;\n",
       "    }\n",
       "</style>\n",
       "<table border=\"1\" class=\"dataframe\">\n",
       "  <thead>\n",
       "    <tr style=\"text-align: right;\">\n",
       "      <th></th>\n",
       "      <th>wiki_id</th>\n",
       "      <th>url</th>\n",
       "    </tr>\n",
       "  </thead>\n",
       "  <tbody>\n",
       "    <tr>\n",
       "      <th>0</th>\n",
       "      <td>Q43436</td>\n",
       "      <td>https://en.wikipedia.org/wiki/Pearl</td>\n",
       "    </tr>\n",
       "    <tr>\n",
       "      <th>1</th>\n",
       "      <td>Q43088</td>\n",
       "      <td>https://en.wikipedia.org/wiki/Ruby</td>\n",
       "    </tr>\n",
       "    <tr>\n",
       "      <th>2</th>\n",
       "      <td>Q43513</td>\n",
       "      <td>https://en.wikipedia.org/wiki/Emerald</td>\n",
       "    </tr>\n",
       "    <tr>\n",
       "      <th>3</th>\n",
       "      <td>Q5283</td>\n",
       "      <td>https://en.wikipedia.org/wiki/Diamond</td>\n",
       "    </tr>\n",
       "    <tr>\n",
       "      <th>4</th>\n",
       "      <td>Q4700957</td>\n",
       "      <td>https://en.wikipedia.org/wiki/Aqeeq</td>\n",
       "    </tr>\n",
       "    <tr>\n",
       "      <th>...</th>\n",
       "      <td>...</td>\n",
       "      <td>...</td>\n",
       "    </tr>\n",
       "    <tr>\n",
       "      <th>419</th>\n",
       "      <td>Q59922524</td>\n",
       "      <td>None</td>\n",
       "    </tr>\n",
       "    <tr>\n",
       "      <th>420</th>\n",
       "      <td>Q47458415</td>\n",
       "      <td>None</td>\n",
       "    </tr>\n",
       "    <tr>\n",
       "      <th>421</th>\n",
       "      <td>Q88789639</td>\n",
       "      <td>None</td>\n",
       "    </tr>\n",
       "    <tr>\n",
       "      <th>422</th>\n",
       "      <td>Q113921884</td>\n",
       "      <td>None</td>\n",
       "    </tr>\n",
       "    <tr>\n",
       "      <th>423</th>\n",
       "      <td>Q3850202</td>\n",
       "      <td>https://en.wikipedia.org/wiki/Seals_in_the_Sin...</td>\n",
       "    </tr>\n",
       "  </tbody>\n",
       "</table>\n",
       "<p>424 rows × 2 columns</p>\n",
       "</div>"
      ],
      "text/plain": [
       "        wiki_id                                                url\n",
       "0        Q43436                https://en.wikipedia.org/wiki/Pearl\n",
       "1        Q43088                 https://en.wikipedia.org/wiki/Ruby\n",
       "2        Q43513              https://en.wikipedia.org/wiki/Emerald\n",
       "3         Q5283              https://en.wikipedia.org/wiki/Diamond\n",
       "4      Q4700957                https://en.wikipedia.org/wiki/Aqeeq\n",
       "..          ...                                                ...\n",
       "419   Q59922524                                               None\n",
       "420   Q47458415                                               None\n",
       "421   Q88789639                                               None\n",
       "422  Q113921884                                               None\n",
       "423    Q3850202  https://en.wikipedia.org/wiki/Seals_in_the_Sin...\n",
       "\n",
       "[424 rows x 2 columns]"
      ]
     },
     "execution_count": 22,
     "metadata": {},
     "output_type": "execute_result"
    }
   ],
   "source": [
    "sq.output()"
   ]
  },
  {
   "cell_type": "code",
   "execution_count": 23,
   "id": "db882198-6912-4cfb-b69c-983a7254da47",
   "metadata": {},
   "outputs": [
    {
     "data": {
      "text/plain": [
       "['Q43436', 'Q43088', 'Q43513']"
      ]
     },
     "execution_count": 23,
     "metadata": {},
     "output_type": "execute_result"
    }
   ],
   "source": [
    "entity_list = list(df_e['wiki_id'])[:3]\n",
    "len(entity_list)\n",
    "entity_list"
   ]
  },
  {
   "cell_type": "code",
   "execution_count": 24,
   "id": "0d5a7d68-a677-45bc-9124-8e542e3516de",
   "metadata": {},
   "outputs": [
    {
     "data": {
      "application/vnd.jupyter.widget-view+json": {
       "model_id": "501f101e956945d5ad86ae3627efd3f3",
       "version_major": 2,
       "version_minor": 0
      },
      "text/plain": [
       "  0%|          | 0/3 [00:00<?, ?it/s]"
      ]
     },
     "metadata": {},
     "output_type": "display_data"
    },
    {
     "data": {
      "text/plain": [
       "{'Q43436': 'https://en.wikipedia.org/wiki/Pearl',\n",
       " 'Q43088': 'https://en.wikipedia.org/wiki/Ruby',\n",
       " 'Q43513': 'https://en.wikipedia.org/wiki/Emerald'}"
      ]
     },
     "execution_count": 24,
     "metadata": {},
     "output_type": "execute_result"
    }
   ],
   "source": [
    "from tqdm.auto import tqdm\n",
    "urls={}\n",
    "pbar = tqdm(entity_list)\n",
    "for e in pbar:\n",
    "    pbar.set_description(f'Query entity: {e:<15}')\n",
    "    urls[e] = get_wikiurl_wikidata(e)\n",
    "\n",
    "urls"
   ]
  },
  {
   "cell_type": "code",
   "execution_count": null,
   "id": "3ac8bac6-8704-4ab3-83e9-04d20db212b2",
   "metadata": {},
   "outputs": [],
   "source": []
  }
 ],
 "metadata": {
  "kernelspec": {
   "display_name": "Python 3 (ipykernel)",
   "language": "python",
   "name": "python3"
  },
  "language_info": {
   "codemirror_mode": {
    "name": "ipython",
    "version": 3
   },
   "file_extension": ".py",
   "mimetype": "text/x-python",
   "name": "python",
   "nbconvert_exporter": "python",
   "pygments_lexer": "ipython3",
   "version": "3.10.14"
  }
 },
 "nbformat": 4,
 "nbformat_minor": 5
}
